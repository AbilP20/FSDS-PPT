{
 "cells": [
  {
   "cell_type": "markdown",
   "id": "4b171e28",
   "metadata": {},
   "source": [
    "### Move Zeroes\n",
    "Given an integer array nums, move all 0's to the end of it while maintaining the relative order of the non-zero elements.\n",
    "\n",
    "Note that you must do this in-place without making a copy of the array.\n",
    "\n",
    "**Example 1:**\n",
    "Input: nums = [0,1,0,3,12]\n",
    "Output: [1,3,12,0,0]\n",
    "\n",
    "**Example 2:**\n",
    "Input: nums = [0]\n",
    "Output: [0]\n",
    "\n",
    "**Constraints:**\n",
    "a. 1 <= nums.length <= 10^4\n",
    "b. -2^31 <= nums[i] <= 2^31 - 1"
   ]
  },
  {
   "cell_type": "code",
   "execution_count": 1,
   "id": "f3dc9d25",
   "metadata": {},
   "outputs": [],
   "source": [
    "def mov_zeros(nums):\n",
    "    k=0\n",
    "    for i in range(len(nums)):\n",
    "        if nums[i] != 0:\n",
    "            nums[k] = nums[i]\n",
    "            k+=1\n",
    "    while k<len(nums):\n",
    "        nums[k]=0\n",
    "        k+=1\n",
    "    return nums"
   ]
  },
  {
   "cell_type": "code",
   "execution_count": 2,
   "id": "937e65df",
   "metadata": {},
   "outputs": [
    {
     "data": {
      "text/plain": [
       "[1, 3, 12, 0, 0]"
      ]
     },
     "execution_count": 2,
     "metadata": {},
     "output_type": "execute_result"
    }
   ],
   "source": [
    "nums = [0,1,0,3,12]\n",
    "mov_zeros(nums)"
   ]
  },
  {
   "cell_type": "markdown",
   "id": "2ec19cd3",
   "metadata": {},
   "source": [
    "ALGO:\n",
    "1) initialize k = 0\n",
    "2) for i= (0 to len(array)), we will set array[k] = array[i], if ith value is not 0, then increment k\n",
    "3) for remaining elements we will set array[k]=0, while k<len(array)"
   ]
  }
 ],
 "metadata": {
  "kernelspec": {
   "display_name": "Python 3 (ipykernel)",
   "language": "python",
   "name": "python3"
  },
  "language_info": {
   "codemirror_mode": {
    "name": "ipython",
    "version": 3
   },
   "file_extension": ".py",
   "mimetype": "text/x-python",
   "name": "python",
   "nbconvert_exporter": "python",
   "pygments_lexer": "ipython3",
   "version": "3.9.16"
  }
 },
 "nbformat": 4,
 "nbformat_minor": 5
}
