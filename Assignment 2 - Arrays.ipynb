{
 "cells": [
  {
   "cell_type": "markdown",
   "id": "c5c4e624",
   "metadata": {},
   "source": [
    "### Question 1 \n",
    "Given an integer array nums of 2n integers, group these integers into n pairs (a1, b1), (a2, b2),..., (an, bn) such that the sum of min(ai, bi) for all i is maximized. Return the maximized sum.\n",
    "\n",
    "**Example 1:**\n",
    "Input: nums = [1,4,3,2]\n",
    "Output: 4\n",
    "\n",
    "**Explanation:** All possible pairings (ignoring the ordering of elements) are:\n",
    "\n",
    "1. (1, 4), (2, 3) -> min(1, 4) + min(2, 3) = 1 + 2 = 3\n",
    "2. (1, 3), (2, 4) -> min(1, 3) + min(2, 4) = 1 + 2 = 3\n",
    "3. (1, 2), (3, 4) -> min(1, 2) + min(3, 4) = 1 + 3 = 4\n",
    "So the maximum possible sum is 4\n",
    "</aside>"
   ]
  },
  {
   "cell_type": "code",
   "execution_count": 1,
   "id": "bbb05876",
   "metadata": {},
   "outputs": [
    {
     "data": {
      "text/plain": [
       "4"
      ]
     },
     "execution_count": 1,
     "metadata": {},
     "output_type": "execute_result"
    }
   ],
   "source": [
    "def get_max_sum(nums):\n",
    "    nums.sort()\n",
    "    return sum(nums[::2])\n",
    "nums = [1,4,3,2]\n",
    "get_max_sum(nums)"
   ]
  },
  {
   "cell_type": "markdown",
   "id": "1624f0a8",
   "metadata": {},
   "source": [
    "EXPLANATION:                                                                                                                            \n",
    "n = [1,4,3,2]                                                                                                                   \n",
    "1) we will get max sum of min(a,b) pairs in the best possible way if they are sorted. O(n logn)\n",
    "n = [1,2,3,4]                                                                                                                            \n",
    "2) then if we sum the even indexes(i.e 0,2,4,6...) or the odd positions(1,3,5,7..), we will get the max sum                                                                                                                            \n",
    "eg. (1,2)(3,4) will be the pairs for above question sum of the even indices = 1+3 =4                                                                                                                            \n",
    "3) If we do not sort it first we may get a small number in another pair which may not give the largest sum"
   ]
  },
  {
   "cell_type": "markdown",
   "id": "ed7cae5f",
   "metadata": {},
   "source": [
    "### Question 2 \n",
    "Alice has n candies, where the ith candy is of type candyType[i]. Alice noticed that she started to gain weight, so she visited a doctor. The doctor advised Alice to only eat n / 2 of the candies she has (n is always even). Alice likes her candies very much, and she wants to eat the maximum number of different types of candies while still following the doctor's advice. Given the integer array candyType of length n, return the maximum number of different types of candies she can eat if she only eats n / 2 of them.\n",
    "\n",
    "Example 1:\n",
    "Input: candyType = [1,1,2,2,3,3]\n",
    "Output: 3\n",
    "\n",
    "Explanation: Alice can only eat 6 / 2 = 3 candies. Since there are only 3 types, she can eat one of each type."
   ]
  },
  {
   "cell_type": "code",
   "execution_count": 2,
   "id": "eebff6a1",
   "metadata": {},
   "outputs": [
    {
     "data": {
      "text/plain": [
       "2"
      ]
     },
     "execution_count": 2,
     "metadata": {},
     "output_type": "execute_result"
    }
   ],
   "source": [
    "def candy_eat(candyType):\n",
    "    n = len(candyType)\n",
    "    can_eat = int(n/2)\n",
    "    a = set(candyType)\n",
    "    if can_eat<=len(a):\n",
    "        limit = can_eat\n",
    "    else:\n",
    "        limit = len(a)\n",
    "    return limit\n",
    "candyType = [1,2,3,3]\n",
    "candy_eat(candyType)"
   ]
  },
  {
   "cell_type": "markdown",
   "id": "a7e23c0d",
   "metadata": {},
   "source": [
    "EXPLANATION:\n",
    "1) convert array to set O(n)\n",
    "2) if the n/2 < length(set) means the candyTypes are not equally distributed and Alice can only eat n/2 no. of candies which may or may not include all distinct candy types\n",
    "3) but if n/2 > length(set) means there are many candies of same type, so Alice can try all the distinct candy types there are"
   ]
  },
  {
   "cell_type": "markdown",
   "id": "e06e6d01",
   "metadata": {},
   "source": [
    "### Question 3 \n",
    "We define a harmonious array as an array where the difference between its maximum value and its minimum value is exactly 1. Given an integer array nums, return the length of its longest harmonious subsequence among all its possible subsequences. A subsequence of an array is a sequence that can be derived from the array by deleting some or no elements without changing the order of the remaining elements.\n",
    "\n",
    "Example 1:\n",
    "Input: nums = [1,3,2,2,5,2,3,7]\n",
    "Output: 5\n",
    "\n",
    "Explanation: The longest harmonious subsequence is [3,2,2,2,3]."
   ]
  },
  {
   "cell_type": "markdown",
   "id": "a1936ce0",
   "metadata": {},
   "source": [
    "### Question 4\n",
    "You have a long flowerbed in which some of the plots are planted, and some are not.\n",
    "However, flowers cannot be planted in adjacent plots.\n",
    "Given an integer array flowerbed containing 0's and 1's, where 0 means empty and 1 means not empty, and an integer n, return true if n new flowers can be planted in the flowerbed without violating the no-adjacent-flowers rule and false otherwise.\n",
    "\n",
    "Example 1:\n",
    "Input: flowerbed = [1,0,0,0,1], n = 1\n",
    "Output: true"
   ]
  },
  {
   "cell_type": "code",
   "execution_count": 3,
   "id": "5b05f624",
   "metadata": {},
   "outputs": [
    {
     "data": {
      "text/plain": [
       "True"
      ]
     },
     "execution_count": 3,
     "metadata": {},
     "output_type": "execute_result"
    }
   ],
   "source": [
    "def plant(flowerbed,n):\n",
    "    plots = len(flowerbed)\n",
    "    for i in range(plots):\n",
    "        if (flowerbed[i]==0) and (i==0 or flowerbed[i-1]==0) and (i==plots-1 or flowerbed[i+1]==0):\n",
    "            flowerbed[i]=1\n",
    "            n-=1\n",
    "        if n==0:\n",
    "            return True\n",
    "    return False\n",
    "flowerbed = [0,0,1,0,0]\n",
    "n = 2\n",
    "plant(flowerbed,n)"
   ]
  },
  {
   "cell_type": "markdown",
   "id": "66513321",
   "metadata": {},
   "source": [
    "EXPLANATION:                                                                                                                                  \n",
    "we check 3 main conditions:\n",
    "1) if the current plot==0, means plot is empty\n",
    "2) if the plot bfore current plot = 0, means the previous plot is empty. the code i==0 is for debugging index 0 error, i.e if we check [i-1] on index 0 it result in error. so we put i==0 with 'or' \n",
    "3) if plot after current plot = 0, means the next plot is empty. the reason for i==plots-1 is similar to above reason but for last index\n",
    "if ll above conditions are true, that means we can place the flower in the current plot"
   ]
  },
  {
   "cell_type": "markdown",
   "id": "3311b104",
   "metadata": {},
   "source": [
    "### Question 5\n",
    "Given an integer array nums, find three numbers whose product is maximum and return the maximum product.\n",
    "\n",
    "Example 1:\n",
    "Input: nums = [1,2,3]\n",
    "Output: 6"
   ]
  },
  {
   "cell_type": "code",
   "execution_count": 4,
   "id": "807f5558",
   "metadata": {},
   "outputs": [
    {
     "data": {
      "text/plain": [
       "90"
      ]
     },
     "execution_count": 4,
     "metadata": {},
     "output_type": "execute_result"
    }
   ],
   "source": [
    "def max_prod_3(nums):\n",
    "    min1 = min2 = 999999999\n",
    "    max1 = max2 = max3 = -9999999\n",
    "    for i in range(len(nums)):\n",
    "        if nums[i] <= min1:\n",
    "            min2 = min1\n",
    "            min1 = nums[i]\n",
    "        elif nums[i] < min2:\n",
    "            min2 = nums[i]\n",
    "        if nums[i] >= max1:\n",
    "            max3 = max2\n",
    "            max2 = max1\n",
    "            max1 = nums[i]\n",
    "        elif nums[i] >= max2:\n",
    "            max3 = max2\n",
    "            max2 = nums[i]\n",
    "        elif nums[i] > max3:\n",
    "            max3 = nums[i]\n",
    "    prod1 = min1*min2*max1\n",
    "    prod2 = max1*max2*max3\n",
    "    return max(prod1, prod2)\n",
    "nums = [-6, -5, -1, 2, 3]   # this is sorted \n",
    "max_prod_3(nums)"
   ]
  },
  {
   "cell_type": "markdown",
   "id": "ed262c29",
   "metadata": {},
   "source": [
    "EXPLANATION:\n",
    "1) we can use sorting but only when the values are whole numbers only\n",
    "2) for eg. [-6, -5, 1, 2, 3]                                                                                                               \n",
    "if we just mulitply largest 3, our product = 6 but if we see carefully if we mulitply the 2 min and largest we get product = 90\n",
    "3) from cases like [-6, -5, -1, 2, 3], [-6, -2, -1, 3, 4]...., we find that only the 2 minimum will contribute so will check the maximum out (min1 x min2 x max1) or (max1 x max2 x max3)"
   ]
  },
  {
   "cell_type": "markdown",
   "id": "d0abc235",
   "metadata": {},
   "source": [
    "### Question 6\n",
    "Given an array of integers nums which is sorted in ascending order, and an integer target,\n",
    "write a function to search target in nums. If target exists, then return its index. Otherwise,\n",
    "return -1.\n",
    "\n",
    "You must write an algorithm with O(log n) runtime complexity.\n",
    "\n",
    "Input: nums = [-1,0,3,5,9,12], target = 9\n",
    "Output: 4\n",
    "\n",
    "Explanation: 9 exists in nums and its index is 4"
   ]
  },
  {
   "cell_type": "code",
   "execution_count": 5,
   "id": "fe8bc36a",
   "metadata": {},
   "outputs": [
    {
     "data": {
      "text/plain": [
       "4"
      ]
     },
     "execution_count": 5,
     "metadata": {},
     "output_type": "execute_result"
    }
   ],
   "source": [
    "def b_search(nums, target):\n",
    "    low = 0\n",
    "    high = len(nums) - 1\n",
    "    while low<=high:\n",
    "        mid = (low+high)//2\n",
    "        if nums[mid] == target:\n",
    "            return mid\n",
    "        elif target < nums[mid]:\n",
    "            high = mid-1\n",
    "        else:\n",
    "            low = mid+1\n",
    "    return -1\n",
    "nums = [-1,0,3,5,9,12]\n",
    "target = 9      \n",
    "b_search(nums, target)"
   ]
  },
  {
   "cell_type": "markdown",
   "id": "6774701c",
   "metadata": {},
   "source": [
    "THIS IS SIMPLE BINARY SEARCH QUES O(log n)"
   ]
  },
  {
   "cell_type": "markdown",
   "id": "6a88b108",
   "metadata": {},
   "source": [
    "### Question 7\n",
    "An array is monotonic if it is either monotone increasing or monotone decreasing.\n",
    "\n",
    "An array nums is monotone increasing if for all i <= j, nums[i] <= nums[j]. An array nums is\n",
    "monotone decreasing if for all i <= j, nums[i] >= nums[j].\n",
    "\n",
    "Given an integer array nums, return true if the given array is monotonic, or false otherwise.\n",
    "\n",
    "Example 1:\n",
    "Input: nums = [1,2,2,3]\n",
    "Output: true"
   ]
  },
  {
   "cell_type": "code",
   "execution_count": 6,
   "id": "c7c93013",
   "metadata": {},
   "outputs": [
    {
     "data": {
      "text/plain": [
       "True"
      ]
     },
     "execution_count": 6,
     "metadata": {},
     "output_type": "execute_result"
    }
   ],
   "source": [
    "def monotonic(nums):\n",
    "    for i in range(len(nums)-1):\n",
    "        if nums[i] <= nums[i+1]:\n",
    "            mon_inc = True\n",
    "        else:\n",
    "            mon_inc = False\n",
    "            break\n",
    "    for i in range(len(nums)-1):\n",
    "        if nums[i] >= nums[i+1]:\n",
    "            mon_dec = True\n",
    "        else:\n",
    "            mon_dec = False\n",
    "            break\n",
    "    if (mon_inc or mon_dec):\n",
    "        return True\n",
    "    return False\n",
    "\n",
    "nums =  [1,2,2,3]\n",
    "monotonic(nums)    "
   ]
  },
  {
   "cell_type": "markdown",
   "id": "6bd209a2",
   "metadata": {},
   "source": [
    "EXPLANATION:                                                                                                                             \n",
    "We will just traverse once, the array completely O(n)\n",
    "1) first check if ALL next value is smaller than the current value\n",
    "2) check if ALL next value is larger than the current value\n",
    "3) if either of step 2 or 3 is true, then the array is monotonic"
   ]
  },
  {
   "cell_type": "markdown",
   "id": "cc9fc992",
   "metadata": {},
   "source": [
    "### Question 8\n",
    "You are given an integer array nums and an integer k.\n",
    "\n",
    "In one operation, you can choose any index i where 0 <= i < nums.length and change nums[i] to nums[i] + x where x is an integer from the range [-k, k]. You can apply this operation at most once for each index i.\n",
    "\n",
    "The score of nums is the difference between the maximum and minimum elements in nums.\n",
    "\n",
    "Return the minimum score of nums after applying the mentioned operation at most once for each index in it.\n",
    "\n",
    "Example 1:\n",
    "Input: nums = [1], k = 0\n",
    "Output: 0\n",
    "\n",
    "Explanation: The score is max(nums) - min(nums) = 1 - 1 = 0."
   ]
  }
 ],
 "metadata": {
  "kernelspec": {
   "display_name": "Python 3 (ipykernel)",
   "language": "python",
   "name": "python3"
  },
  "language_info": {
   "codemirror_mode": {
    "name": "ipython",
    "version": 3
   },
   "file_extension": ".py",
   "mimetype": "text/x-python",
   "name": "python",
   "nbconvert_exporter": "python",
   "pygments_lexer": "ipython3",
   "version": "3.9.16"
  }
 },
 "nbformat": 4,
 "nbformat_minor": 5
}
