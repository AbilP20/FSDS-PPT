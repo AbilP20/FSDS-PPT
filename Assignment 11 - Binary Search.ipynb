{
 "cells": [
  {
   "cell_type": "markdown",
   "id": "6fb0c7db",
   "metadata": {},
   "source": [
    "### Question 1\n",
    "\n",
    "Given a non-negative integer `x`, return *the square root of* `x` *rounded down to the nearest integer*. The returned integer should be **non-negative** as well.\n",
    "\n",
    "You **must not use** any built-in exponent function or operator.\n",
    "\n",
    "- For example, do not use `pow(x, 0.5)` in c++ or `x ** 0.5` in python.\n",
    "\n",
    "**Example 1:**\n",
    "\n",
    "```\n",
    "Input: x = 4\n",
    "Output: 2\n",
    "Explanation: The square root of 4 is 2, so we return 2.\n",
    "\n",
    "```\n",
    "\n",
    "**Example 2:**\n",
    "\n",
    "```\n",
    "Input: x = 8\n",
    "Output: 2\n",
    "Explanation: The square root of 8 is 2.82842..., and since we round it down to the nearest integer, 2 is returned.\n",
    "```"
   ]
  },
  {
   "cell_type": "code",
   "execution_count": 1,
   "id": "2814f4a8",
   "metadata": {},
   "outputs": [
    {
     "data": {
      "text/plain": [
       "5"
      ]
     },
     "execution_count": 1,
     "metadata": {},
     "output_type": "execute_result"
    }
   ],
   "source": [
    "def sqrt(n):\n",
    "    low = 1\n",
    "    high = n\n",
    "    ans = 1\n",
    "    while low<=high:\n",
    "        mid = (low+high)//2\n",
    "        if (mid*mid) <= n:\n",
    "            ans = mid\n",
    "            low = mid+1\n",
    "        else:\n",
    "            high = mid-1\n",
    "    return ans\n",
    "\n",
    "sqrt(25)"
   ]
  },
  {
   "cell_type": "markdown",
   "id": "b06e4dbd",
   "metadata": {},
   "source": [
    "### Question 2\n",
    "\n",
    "A peak element is an element that is strictly greater than its neighbors.\n",
    "\n",
    "Given a **0-indexed** integer array `nums`, find a peak element, and return its index. If the array contains multiple peaks, return the index to **any of the peaks**.\n",
    "\n",
    "You may imagine that `nums[-1] = nums[n] = -∞`. In other words, an element is always considered to be strictly greater than a neighbor that is outside the array.\n",
    "\n",
    "You must write an algorithm that runs in `O(log n)` time.\n",
    "\n",
    "**Example 1:**\n",
    "\n",
    "```\n",
    "Input: nums = [1,2,3,1]\n",
    "Output: 2\n",
    "Explanation: 3 is a peak element and your function should return the index number 2.\n",
    "```\n",
    "\n",
    "**Example 2:**\n",
    "\n",
    "```\n",
    "Input: nums = [1,2,1,3,5,6,4]\n",
    "Output: 5\n",
    "Explanation: Your function can return either index number 1 where the peak element is 2, or index number 5 where the peak element is 6.\n",
    "```"
   ]
  },
  {
   "cell_type": "code",
   "execution_count": 2,
   "id": "c24a94c5",
   "metadata": {},
   "outputs": [],
   "source": [
    "def peak(nums):\n",
    "    nums.insert(0, float('-inf'))\n",
    "    nums.append(float('-inf'))    \n",
    "    low=1\n",
    "    high=len(nums)-2\n",
    "    while low<=high:\n",
    "        mid = (low+high)//2\n",
    "        if nums[mid]>nums[mid-1] and nums[mid]>nums[mid+1]:\n",
    "            return mid\n",
    "        elif nums[mid] > nums[mid-1]:\n",
    "            low = mid+1\n",
    "        else:\n",
    "            high = mid-1\n",
    "    return low\n",
    "nums = [1,2,3,1]\n",
    "ind = peak(nums)"
   ]
  },
  {
   "cell_type": "code",
   "execution_count": 3,
   "id": "53e5d3a8",
   "metadata": {},
   "outputs": [
    {
     "data": {
      "text/plain": [
       "3"
      ]
     },
     "execution_count": 3,
     "metadata": {},
     "output_type": "execute_result"
    }
   ],
   "source": [
    "nums[ind]"
   ]
  },
  {
   "cell_type": "code",
   "execution_count": 4,
   "id": "05ccadb7",
   "metadata": {},
   "outputs": [
    {
     "data": {
      "text/plain": [
       "3"
      ]
     },
     "execution_count": 4,
     "metadata": {},
     "output_type": "execute_result"
    }
   ],
   "source": [
    "ind"
   ]
  },
  {
   "cell_type": "markdown",
   "id": "5c2ff4c8",
   "metadata": {},
   "source": [
    "### Question 3\n",
    "\n",
    "Given an array `nums` containing `n` distinct numbers in the range `[0, n]`, return *the only number in the range that is missing from the array.*\n",
    "\n",
    "**Example 1:**\n",
    "\n",
    "```\n",
    "Input: nums = [3,0,1]\n",
    "Output: 2\n",
    "Explanation: n = 3 since there are 3 numbers, so all numbers are in the range [0,3]. 2 is the missing number in the range since it does not appear in nums.\n",
    "\n",
    "```\n",
    "\n",
    "**Example 2:**\n",
    "\n",
    "```\n",
    "Input: nums = [0,1]\n",
    "Output: 2\n",
    "Explanation: n = 2 since there are 2 numbers, so all numbers are in the range [0,2]. 2 is the missing number in the range since it does not appear in nums.\n",
    "\n",
    "```\n",
    "\n",
    "**Example 3:**\n",
    "```\n",
    "Input: nums = [9,6,4,2,3,5,7,0,1]\n",
    "Output: 8\n",
    "Explanation: n = 9 since there are 9 numbers, so all numbers are in the range [0,9]. 8 is the missing number in the range since it does not appear in nums.\n",
    "```\n"
   ]
  },
  {
   "cell_type": "code",
   "execution_count": 5,
   "id": "0e946179",
   "metadata": {},
   "outputs": [
    {
     "data": {
      "text/plain": [
       "2"
      ]
     },
     "execution_count": 5,
     "metadata": {},
     "output_type": "execute_result"
    }
   ],
   "source": [
    "def missing_num(nums):\n",
    "    n=len(nums)\n",
    "    sum1 = n*(n+1)/2\n",
    "    sum2 = 0\n",
    "    for i in nums:\n",
    "        sum2 += i\n",
    "    return int(sum1-sum2)\n",
    "nums = [3,0,1]\n",
    "missing_num(nums)"
   ]
  },
  {
   "cell_type": "markdown",
   "id": "fcc0f435",
   "metadata": {},
   "source": [
    "### Question 4\n",
    "\n",
    "Given an array of integers `nums` containing `n + 1` integers where each integer is in the range `[1, n]` inclusive.\n",
    "\n",
    "There is only **one repeated number** in `nums`, return *this repeated number*.\n",
    "\n",
    "You must solve the problem **without** modifying the array `nums` and uses only constant extra space.\n",
    "\n",
    "**Example 1:**\n",
    "\n",
    "```\n",
    "Input: nums = [1,3,4,2,2]\n",
    "Output: 2\n",
    "\n",
    "```\n",
    "\n",
    "**Example 2:**\n",
    "\n",
    "```\n",
    "Input: nums = [3,1,3,4,2]\n",
    "Output: 3\n",
    "```\n"
   ]
  },
  {
   "cell_type": "code",
   "execution_count": 6,
   "id": "417ee790",
   "metadata": {},
   "outputs": [
    {
     "data": {
      "text/plain": [
       "3"
      ]
     },
     "execution_count": 6,
     "metadata": {},
     "output_type": "execute_result"
    }
   ],
   "source": [
    "def dup_num(nums):\n",
    "    n=len(nums)\n",
    "    low = 1\n",
    "    high = n-1\n",
    "    while low < high:\n",
    "        mid=(low+high)//2\n",
    "        c=0\n",
    "        for i in range(n):\n",
    "            if nums[i]<=mid:\n",
    "                c+=1\n",
    "        if c>mid:\n",
    "            high = mid\n",
    "        else:\n",
    "            low = mid+1\n",
    "    return high\n",
    "nums = [3,1,3,4,2]\n",
    "dup_num(nums)"
   ]
  },
  {
   "cell_type": "markdown",
   "id": "ecff1d95",
   "metadata": {},
   "source": [
    "### Question 5\n",
    "\n",
    "Given two integer arrays `nums1` and `nums2`, return *an array of their intersection*. Each element in the result must be **unique** and you may return the result in **any order**.\n",
    "\n",
    "**Example 1:**\n",
    "\n",
    "```\n",
    "Input: nums1 = [1,2,2,1], nums2 = [2,2]\n",
    "Output: [2]\n",
    "\n",
    "```\n",
    "\n",
    "**Example 2:**\n",
    "\n",
    "```\n",
    "Input: nums1 = [4,9,5], nums2 = [9,4,9,8,4]\n",
    "Output: [9,4]\n",
    "Explanation: [4,9] is also accepted.\n",
    "```\n"
   ]
  },
  {
   "cell_type": "code",
   "execution_count": 7,
   "id": "e5c85e3b",
   "metadata": {},
   "outputs": [],
   "source": [
    "def intersect(nums1, nums2):\n",
    "    s1 = set(nums1)\n",
    "    s2 = set(nums2)\n",
    "    a=[]\n",
    "    for i in s1:\n",
    "        if i in s2:\n",
    "            a.append(i)\n",
    "    return a"
   ]
  },
  {
   "cell_type": "code",
   "execution_count": 8,
   "id": "3ab35635",
   "metadata": {},
   "outputs": [
    {
     "data": {
      "text/plain": [
       "[2]"
      ]
     },
     "execution_count": 8,
     "metadata": {},
     "output_type": "execute_result"
    }
   ],
   "source": [
    "nums1 = [1,2,2,1]\n",
    "nums2 = [2,2]\n",
    "intersect(nums1,nums2)"
   ]
  },
  {
   "cell_type": "markdown",
   "id": "bb7bd070",
   "metadata": {},
   "source": [
    "### Question 6\n",
    "\n",
    "Suppose an array of length `n` sorted in ascending order is **rotated** between `1` and `n` times. For example, the array `nums = [0,1,2,4,5,6,7]` might become:\n",
    "\n",
    "- `[4,5,6,7,0,1,2]` if it was rotated `4` times.\n",
    "- `[0,1,2,4,5,6,7]` if it was rotated `7` times.\n",
    "\n",
    "Notice that **rotating** an array `[a[0], a[1], a[2], ..., a[n-1]]` 1 time results in the array `[a[n-1], a[0], a[1], a[2], ..., a[n-2]]`.\n",
    "\n",
    "Given the sorted rotated array `nums` of **unique** elements, return *the minimum element of this array*.\n",
    "\n",
    "You must write an algorithm that runs in `O(log n) time.`\n",
    "\n",
    "**Example 1:**\n",
    "\n",
    "```\n",
    "Input: nums = [3,4,5,1,2]\n",
    "Output: 1\n",
    "Explanation: The original array was [1,2,3,4,5] rotated 3 times.\n",
    "\n",
    "```\n",
    "\n",
    "**Example 2:**\n",
    "\n",
    "```\n",
    "Input: nums = [4,5,6,7,0,1,2]\n",
    "Output: 0\n",
    "Explanation: The original array was [0,1,2,4,5,6,7] and it was rotated 4 times.\n",
    "\n",
    "```\n",
    "\n",
    "**Example 3:**\n",
    "\n",
    "```\n",
    "Input: nums = [11,13,15,17]\n",
    "Output: 11\n",
    "Explanation: The original array was [11,13,15,17] and it was rotated 4 times.\n",
    "```\n"
   ]
  },
  {
   "cell_type": "code",
   "execution_count": 9,
   "id": "52ea5bb1",
   "metadata": {},
   "outputs": [],
   "source": [
    "def min_rot(nums):\n",
    "    low  = 0\n",
    "    high = len(nums) - 1\n",
    "    while low < high:\n",
    "        mid = (low+high)//2\n",
    "        if nums[mid] > nums[high]:\n",
    "            low = mid + 1\n",
    "        else:\n",
    "            high = mid\n",
    "    return nums[low]"
   ]
  },
  {
   "cell_type": "code",
   "execution_count": 10,
   "id": "713d482e",
   "metadata": {},
   "outputs": [
    {
     "data": {
      "text/plain": [
       "0"
      ]
     },
     "execution_count": 10,
     "metadata": {},
     "output_type": "execute_result"
    }
   ],
   "source": [
    "nums = [4,5,6,7,0,1,2]\n",
    "min_rot(nums)"
   ]
  },
  {
   "cell_type": "markdown",
   "id": "09c170fb",
   "metadata": {},
   "source": [
    "### Question 7\n",
    "\n",
    "Given an array of integers `nums` sorted in non-decreasing order, find the starting and ending position of a given `target` value.\n",
    "\n",
    "If `target` is not found in the array, return `[-1, -1]`.\n",
    "\n",
    "You must write an algorithm with `O(log n)` runtime complexity.\n",
    "\n",
    "**Example 1:**\n",
    "\n",
    "```\n",
    "Input: nums = [5,7,7,8,8,10], target = 8\n",
    "Output: [3,4]\n",
    "\n",
    "```\n",
    "\n",
    "**Example 2:**\n",
    "\n",
    "```\n",
    "Input: nums = [5,7,7,8,8,10], target = 6\n",
    "Output: [-1,-1]\n",
    "\n",
    "```\n",
    "\n",
    "**Example 3:**\n",
    "\n",
    "```\n",
    "Input: nums = [], target = 0\n",
    "Output: [-1,-1]\n",
    "```\n"
   ]
  },
  {
   "cell_type": "code",
   "execution_count": 11,
   "id": "43cd8e9d",
   "metadata": {},
   "outputs": [],
   "source": [
    "def bSearch(nums, target, start):\n",
    "    low = 0\n",
    "    high = len(nums)-1\n",
    "    indx = -1\n",
    "    while low <= high :\n",
    "        mid = (low + high)//2\n",
    "        if target > nums[mid]:\n",
    "            low = mid+1\n",
    "        elif target < nums[mid]:\n",
    "            high = mid-1 \n",
    "        else :\n",
    "            indx = mid\n",
    "            if start:\n",
    "                high = mid-1 \n",
    "            else :\n",
    "                low = mid+1\n",
    "    return indx\n",
    "\n",
    "def search(nums, target):\n",
    "    start = bSearch(nums,target,True)\n",
    "    end = bSearch(nums,target,False)\n",
    "    return [start, end]\n"
   ]
  },
  {
   "cell_type": "code",
   "execution_count": 12,
   "id": "823c49bb",
   "metadata": {},
   "outputs": [
    {
     "data": {
      "text/plain": [
       "[3, 4]"
      ]
     },
     "execution_count": 12,
     "metadata": {},
     "output_type": "execute_result"
    }
   ],
   "source": [
    "nums = [5,7,7,8,8,10]\n",
    "target = 8\n",
    "search(nums, target)"
   ]
  },
  {
   "cell_type": "markdown",
   "id": "da6646d1",
   "metadata": {},
   "source": [
    "### Question 8\n",
    "\n",
    "Given two integer arrays `nums1` and `nums2`, return *an array of their intersection*. Each element in the result must appear as many times as it shows in both arrays and you may return the result in **any order**.\n",
    "\n",
    "**Example 1:**\n",
    "\n",
    "```\n",
    "Input: nums1 = [1,2,2,1], nums2 = [2,2]\n",
    "Output: [2,2]\n",
    "\n",
    "```\n",
    "\n",
    "**Example 2:**\n",
    "\n",
    "```\n",
    "Input: nums1 = [4,9,5], nums2 = [9,4,9,8,4]\n",
    "Output: [4,9]\n",
    "Explanation: [9,4] is also accepted.\n",
    "```\n"
   ]
  },
  {
   "cell_type": "code",
   "execution_count": 13,
   "id": "558aff36",
   "metadata": {},
   "outputs": [],
   "source": [
    "from collections import Counter\n",
    "def intersect(nums1, nums2):\n",
    "    d1 = Counter(nums1)\n",
    "    d2 = Counter(nums2)\n",
    "    a=[]\n",
    "    for i in d1:\n",
    "        if i in d2:\n",
    "            times = min(d1[i],d2[i])\n",
    "            a.extend([i for j in range(times)])\n",
    "    return a"
   ]
  },
  {
   "cell_type": "code",
   "execution_count": 14,
   "id": "ff541ba2",
   "metadata": {},
   "outputs": [
    {
     "data": {
      "text/plain": [
       "[2, 2]"
      ]
     },
     "execution_count": 14,
     "metadata": {},
     "output_type": "execute_result"
    }
   ],
   "source": [
    "nums1 = [1,2,2,1]\n",
    "nums2 = [2,2]\n",
    "intersect(nums1,nums2)"
   ]
  }
 ],
 "metadata": {
  "kernelspec": {
   "display_name": "Python 3 (ipykernel)",
   "language": "python",
   "name": "python3"
  },
  "language_info": {
   "codemirror_mode": {
    "name": "ipython",
    "version": 3
   },
   "file_extension": ".py",
   "mimetype": "text/x-python",
   "name": "python",
   "nbconvert_exporter": "python",
   "pygments_lexer": "ipython3",
   "version": "3.9.16"
  }
 },
 "nbformat": 4,
 "nbformat_minor": 5
}
