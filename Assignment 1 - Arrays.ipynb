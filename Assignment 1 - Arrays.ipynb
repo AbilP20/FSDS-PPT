{
 "cells": [
  {
   "cell_type": "markdown",
   "id": "ae172eca",
   "metadata": {},
   "source": [
    "### Q1. Given an array of integers nums and an integer target, return indices of the two numbers such that they add up to target.\n",
    "\n",
    "You may assume that each input would have exactly one solution, and you may not use the same element twice.\n",
    "\n",
    "You can return the answer in any order.\n",
    "\n",
    "**Example:**\n",
    "Input: nums = [2,7,11,15], target = 9\n",
    "Output0 [0,1]\n",
    "\n",
    "**Explanation:** Because nums[0] + nums[1] == 9, we return [0, 1][\n",
    "\n",
    "</aside>"
   ]
  },
  {
   "cell_type": "code",
   "execution_count": 1,
   "id": "9ac2f5a0",
   "metadata": {
    "scrolled": true
   },
   "outputs": [
    {
     "data": {
      "text/plain": [
       "[0, 1]"
      ]
     },
     "execution_count": 1,
     "metadata": {},
     "output_type": "execute_result"
    }
   ],
   "source": [
    "def find_index(nums,target):\n",
    "    p = 0; q = len(nums)-1\n",
    "    if len(nums)==0 or len(nums)==1:\n",
    "        return \"The array does not have enough elements.\"\n",
    "    else:\n",
    "        while(p!=q):\n",
    "            if nums[p] + nums[q] == target:\n",
    "                break\n",
    "            elif nums[p] + nums[q] > target:\n",
    "                q-=1\n",
    "            else :\n",
    "                p+=1\n",
    "        if p == q:\n",
    "            return \"No such pair found.\"\n",
    "        else:\n",
    "            return [p,q]\n",
    "nums = [7,2]\n",
    "target = 9\n",
    "find_index(nums,target)"
   ]
  },
  {
   "cell_type": "markdown",
   "id": "d52c091c",
   "metadata": {},
   "source": [
    "EXPLANATION :\n",
    "Assumption - array is sorted\n",
    "\n",
    "1) initialize 2 variables `p` and `q` to traverse the list from start and end\n",
    "2) BASE CONDITION : if array size is 0 or 1, return nothing\n",
    "3) run a while loop :  TC -> O(n)                                                                                                                                                                                                                          \n",
    "    if arr[p]+arr[q]==target->return [p,q]                                                                                                                 \n",
    "    elif arr[p]+arr[q]<target-> p=p+1                                                                                                                 \n",
    "    else q = q-1\n",
    "4) if p==q -> print 'no pair found'                                                                                                                 \n",
    "    else -> print [p,q]                                                                                                               \n",
    "    \n",
    "TC = O(n)                                                                                                                 \n",
    "SC = O(1)"
   ]
  },
  {
   "cell_type": "markdown",
   "id": "98815394",
   "metadata": {},
   "source": [
    "### Q2. Given an integer array nums and an integer val, remove all occurrences of val in nums in-place. The order of the elements may be changed. Then return the number of elements in nums which are not equal to val.\n",
    "\n",
    "Consider the number of elements in nums which are not equal to val be k, to get accepted, you need to do the following things:\n",
    "\n",
    "- Change the array nums such that the first k elements of nums contain the elements which are not equal to val. The remaining elements of nums are not important as well as the size of nums.\n",
    "- Return k.\n",
    "\n",
    "**Example :**\n",
    "Input: nums = [3,2,2,3], val = 3\n",
    "Output: 2, nums = [2,2,_,_]\n",
    "\n",
    "**Explanation:** Your function should return k = 2, with the first two elements of nums being 2. It does not matter what you leave beyond the returned k (hence they are underscores)[\n",
    "\n",
    "</aside>"
   ]
  },
  {
   "cell_type": "code",
   "execution_count": 2,
   "id": "2e97f88d",
   "metadata": {
    "scrolled": true
   },
   "outputs": [
    {
     "name": "stdout",
     "output_type": "stream",
     "text": [
      "k =  2\n",
      "nums =  [2, 2]\n"
     ]
    }
   ],
   "source": [
    "def rem_val(nums, val):\n",
    "    k = 0            \n",
    "    for i in range(len(nums)):\n",
    "        if nums[i] != val:\n",
    "            nums[k] = nums[i]\n",
    "            k += 1\n",
    "    nums = nums[:k]\n",
    "    return k,nums\n",
    "nums = [3,2,2,3]\n",
    "val = 3\n",
    "k, nums = rem_val(nums, val)\n",
    "nums =  nums[:k]\n",
    "print(\"k = \",k)\n",
    "print(\"nums = \",nums)"
   ]
  },
  {
   "cell_type": "markdown",
   "id": "c1393907",
   "metadata": {},
   "source": [
    "EXPLANATION :\n",
    "\n",
    "1) run for (i=0 to n) (n = length(arr)); initialize k = 0\n",
    "    if arr[i] ! = val -> then increment k (means we found an element not equal to values)\n",
    "    and change arr[i]=arr[k] (replacing value at ith index with value at kth index)\n",
    "2) set arr = arr[:k]\n",
    "\n",
    "RESULTS:                                                                                                                                  \n",
    "if target not in array, k will end up as length of array                                                                                                                                  \n",
    "if each element is equal to target, k will not increment meaning there is no such element that's not equal to target and the array will be empty"
   ]
  },
  {
   "cell_type": "markdown",
   "id": "3b67a140",
   "metadata": {},
   "source": [
    "### Q3. Given a sorted array of distinct integers and a target value, return the index if the target is found. If not, return the index where it would be if it were inserted in order.\n",
    "\n",
    "You must write an algorithm with O(log n) runtime complexity.\n",
    "\n",
    "**Example 1:**\n",
    "Input: nums = [1,3,5,6], target = 5\n",
    "\n",
    "Output: 2\n",
    "\n",
    "</aside>"
   ]
  },
  {
   "cell_type": "code",
   "execution_count": 3,
   "id": "97503a00",
   "metadata": {},
   "outputs": [
    {
     "data": {
      "text/plain": [
       "2"
      ]
     },
     "execution_count": 3,
     "metadata": {},
     "output_type": "execute_result"
    }
   ],
   "source": [
    "def search(nums, target):\n",
    "    if len(nums)==0:\n",
    "        print(\"Empty array\")\n",
    "    else:\n",
    "        low=0\n",
    "        high=len(nums)-1\n",
    "        while low<=high:\n",
    "            mid = (low+high)//2\n",
    "            if nums[mid]==target:\n",
    "                return mid\n",
    "            elif nums[mid]<target:\n",
    "                low=mid+1\n",
    "            else:\n",
    "                high=mid-1\n",
    "            if low==high:\n",
    "                return \"Not Found\"\n",
    "nums = [1,3,5,6]\n",
    "target = 5\n",
    "search(nums,target)"
   ]
  },
  {
   "cell_type": "markdown",
   "id": "aa579699",
   "metadata": {},
   "source": [
    "EXPLANATION :\n",
    "This is a Binary search which has TC of O(log n) which works for sorted array\n",
    "1) initialize low=0 and high=len(array)-1\n",
    "2) divide array(not literally) into 2 parts using mid=low+high//2\n",
    "3) compare the target value with the mid value of array\n",
    "4) if target is less than mid value, then our target is in the left part of the divided array, i.e. our high will be mid-1\n",
    "   else our target is in the right part of array, i.e low=mid+1\n",
    "5) repeat steps 2 to 4 while low<=high\n",
    "6) if we get low==high, then target is not in the array else print mid"
   ]
  },
  {
   "cell_type": "markdown",
   "id": "d27c653e",
   "metadata": {},
   "source": [
    "### Q4. You are given a large integer represented as an integer array digits, where each digits[i] is the ith digit of the integer. The digits are ordered from most significant to least significant in left-to-right order. The large integer does not contain any leading 0's.\n",
    "\n",
    "Increment the large integer by one and return the resulting array of digits.\n",
    "\n",
    "**Example 1:**\n",
    "Input: digits = [1,2,3]\n",
    "Output: [1,2,4]\n",
    "\n",
    "**Explanation:** The array represents the integer 123.\n",
    "\n",
    "Incrementing by one gives 123 + 1 = 124.\n",
    "Thus, the result should be [1,2,4].\n",
    "\n",
    "</aside>"
   ]
  },
  {
   "cell_type": "code",
   "execution_count": 4,
   "id": "654502eb",
   "metadata": {},
   "outputs": [
    {
     "data": {
      "text/plain": [
       "[1, 3, 0]"
      ]
     },
     "execution_count": 4,
     "metadata": {},
     "output_type": "execute_result"
    }
   ],
   "source": [
    "def incr(digits):\n",
    "    for i in range(len(digits)-1, -1, -1):\n",
    "        if digits[i]!=9:\n",
    "            digits[i]+=1\n",
    "            return digits\n",
    "        else:\n",
    "            digits[i]=0\n",
    "    digits = [1]+digits\n",
    "    return digits\n",
    "digits = [1,2,9]\n",
    "incr(digits)"
   ]
  },
  {
   "cell_type": "code",
   "execution_count": 9,
   "id": "0aed3bfb",
   "metadata": {},
   "outputs": [
    {
     "data": {
      "text/plain": [
       "[1, 2, 4]"
      ]
     },
     "execution_count": 9,
     "metadata": {},
     "output_type": "execute_result"
    }
   ],
   "source": [
    "digits = [1,2,3]\n",
    "incr(digits)"
   ]
  },
  {
   "cell_type": "markdown",
   "id": "bf84b20b",
   "metadata": {},
   "source": [
    "EXPLANATION :                                                                                                                            \n",
    "we have to add 1 to the least significant bit                                                                                                                            \n",
    "possible cases:\n",
    "1) no digit == 9, then just increment the last index of array and return the array\n",
    "2) if last digit is 9, then change it to 0 and increment the next significant bit(to the left) \n",
    "3) if all digits are 9, then change every digit to 0 and add 1 as the most significant bit\n"
   ]
  },
  {
   "cell_type": "markdown",
   "id": "547b8e6b",
   "metadata": {},
   "source": [
    "### Q5. You are given two integer arrays nums1 and nums2, sorted in non-decreasing order, and two integers m and n, representing the number of elements in nums1 and nums2 respectively. Merge nums1 and nums2 into a single array sorted in non-decreasing order.\n",
    "\n",
    "The final sorted array should not be returned by the function, but instead be stored inside the array nums1. To accommodate this, nums1 has a length of m + n, where the first m elements denote the elements that should be merged, and the last n elements are set to 0 and should be ignored. nums2 has a length of n.\n",
    "\n",
    "**Example 1:**\n",
    "Input: nums1 = [1,2,3,0,0,0], m = 3, nums2 = [2,5,6], n = 3\n",
    "Output: [1,2,2,3,5,6]\n",
    "\n",
    "**Explanation:** The arrays we are merging are [1,2,3] and [2,5,6].\n",
    "The result of the merge is [1,2,2,3,5,6] with the underlined elements coming from nums1.\n",
    "\n",
    "</aside>"
   ]
  },
  {
   "cell_type": "code",
   "execution_count": 5,
   "id": "fedc042d",
   "metadata": {},
   "outputs": [
    {
     "name": "stdout",
     "output_type": "stream",
     "text": [
      "[1, 2, 2, 3, 5, 6]\n"
     ]
    }
   ],
   "source": [
    "def merge(num1,num2,m,n):\n",
    "    p = m-1\n",
    "    q = n-1\n",
    "    x = len(num1)-1\n",
    "    while p>=0 and q>=0:\n",
    "        if num1[p]>num2[q]:\n",
    "            num1[x]=num1[p]\n",
    "            p-=1\n",
    "        else:\n",
    "            num1[x]=num2[q]\n",
    "            q-=1\n",
    "        x-=1\n",
    "    while q>=0:\n",
    "        num1[x] = num2[q]\n",
    "        q-=1\n",
    "        x-=1\n",
    "nums1 = [1,2,3,0,0,0]\n",
    "m = 3\n",
    "nums2 = [2,5,6]\n",
    "n = 3\n",
    "merge(nums1,nums2,m,n)\n",
    "print(nums1)"
   ]
  },
  {
   "cell_type": "markdown",
   "id": "d69c07d0",
   "metadata": {},
   "source": [
    "EXPLANATION: the question is part of merge sort\n",
    "\n",
    "1) initialize variables :                                                                                                                                                                                    \n",
    "    p = last index of array1 with size m                                                                                          \n",
    "    q = last index of array2 with size n                                                                                          \n",
    "    x = last index of array1 with size m+n                                                                                          \n",
    "2) start inserting the larger of the 2 arrays into the last index of array1 by using below algo:                                                                                          \n",
    "    if arr1[p]>arr1[q] (means array1 has the largest elem of the 2 arrays), then arr1[x]=arr1[p] (largest elem of merged array is arr1[p], decrement both p and x                                                                                                                                                                                    \n",
    "    else (means arr2 has the largest of the 2 arrays), then arr1[x]=arr2[q], decrement q and x                                     \n",
    "    repeat the above steps while p and q>=0\n",
    "3) suppose if all elements of arr2 were larger than arr1, then all elements of arr2 will be present in the last n index of arr1\n",
    "4) suppose all elements of arr1 were larger than arr2, then arr1 elements will be placed in the last m index and we need to put the elements of arr2 into arr1. for that simply run a for loop to copy contents of arr2 to arr1's starting n indexes"
   ]
  },
  {
   "cell_type": "markdown",
   "id": "baed42f5",
   "metadata": {},
   "source": [
    "### Q6. Given an integer array nums, return true if any value appears at least twice in the array, and return false if every element is distinct.\n",
    "\n",
    "**Example 1:**\n",
    "Input: nums = [1,2,3,1]\n",
    "\n",
    "Output: true\n",
    "\n",
    "</aside>"
   ]
  },
  {
   "cell_type": "code",
   "execution_count": 6,
   "id": "2395cbaf",
   "metadata": {},
   "outputs": [
    {
     "data": {
      "text/plain": [
       "True"
      ]
     },
     "execution_count": 6,
     "metadata": {},
     "output_type": "execute_result"
    }
   ],
   "source": [
    "def dup(nums):\n",
    "    a = set()\n",
    "    for i in range(len(nums)):\n",
    "        if nums[i] in a:\n",
    "            return True\n",
    "        a.add(nums[i])\n",
    "    return False\n",
    "nums = [1,2,3,1]\n",
    "dup(nums)"
   ]
  },
  {
   "cell_type": "markdown",
   "id": "1a7d88e6",
   "metadata": {},
   "source": [
    "EXPLANATION: we use hashset\n",
    "1) create a set, a\n",
    "2) for i=0;i<length(arr) do:                                                                                                              \n",
    "    if set a contains the arr[i] element (means the set already contains the element->duplicate found), then return True                                                                                                              \n",
    "    else add that element arr[i] into the set"
   ]
  },
  {
   "cell_type": "markdown",
   "id": "9431fbc5",
   "metadata": {},
   "source": [
    "### Q7. Given an integer array nums, move all 0's to the end of it while maintaining the relative order of the nonzero elements.\n",
    "\n",
    "Note that you must do this in-place without making a copy of the array.\n",
    "\n",
    "**Example 1:**\n",
    "Input: nums = [0,1,0,3,12]\n",
    "Output: [1,3,12,0,0]\n",
    "\n",
    "</aside>"
   ]
  },
  {
   "cell_type": "code",
   "execution_count": 7,
   "id": "2cdf39ec",
   "metadata": {
    "scrolled": true
   },
   "outputs": [
    {
     "data": {
      "text/plain": [
       "[1, 3, 12, 0, 0]"
      ]
     },
     "execution_count": 7,
     "metadata": {},
     "output_type": "execute_result"
    }
   ],
   "source": [
    "def move_0(nums):\n",
    "    k = 0            \n",
    "    for i in range(len(nums)):\n",
    "        if nums[i] != 0:\n",
    "            nums[k] = nums[i]\n",
    "            k += 1\n",
    "    while k<len(nums):\n",
    "        nums[k]=0\n",
    "        k+=1\n",
    "    return nums\n",
    "nums = [0,1,0,3,12]\n",
    "move_0(nums)"
   ]
  },
  {
   "cell_type": "markdown",
   "id": "61c9c322",
   "metadata": {},
   "source": [
    "EXPLANATION:\n",
    "Similar to Ques 2., where the value = 0 in this qestion. \n",
    "In the end we just need to put zeros in the remaining positions for this question"
   ]
  },
  {
   "cell_type": "markdown",
   "id": "8e545a7b",
   "metadata": {},
   "source": [
    "### Q8. You have a set of integers s, which originally contains all the numbers from 1 to n. Unfortunately, due to some error, one of the numbers in s got duplicated to another number in the set, which results in repetition of one number and loss of another number.\n",
    "\n",
    "You are given an integer array nums representing the data status of this set after the error.\n",
    "\n",
    "Find the number that occurs twice and the number that is missing and return them in the form of an array.\n",
    "\n",
    "**Example 1:**\n",
    "Input: nums = [1,2,2,4]\n",
    "Output: [2,3]\n",
    "\n",
    "</aside>"
   ]
  },
  {
   "cell_type": "code",
   "execution_count": 10,
   "id": "34ef376e",
   "metadata": {},
   "outputs": [
    {
     "data": {
      "text/plain": [
       "[2, 3]"
      ]
     },
     "execution_count": 10,
     "metadata": {},
     "output_type": "execute_result"
    }
   ],
   "source": [
    "def dup_finder(nums):\n",
    "    global dup\n",
    "    a = set()\n",
    "    dup = miss=-1\n",
    "    for i in range(len(nums)):\n",
    "        if nums[i] in a:\n",
    "            dup = nums[i]\n",
    "        else:\n",
    "            a.add(nums[i])\n",
    "    for i in range(len(nums)):\n",
    "        if i+1 not in a:\n",
    "            miss=i+1\n",
    "    return [dup,miss]\n",
    "nums = [1,2,2,4]\n",
    "dup_finder(nums)"
   ]
  },
  {
   "cell_type": "markdown",
   "id": "ca4e82a2",
   "metadata": {},
   "source": [
    "EXPLANATION:\n",
    "similar ques to ques.6                                                                                                              \n",
    "we will use hashset to check if the array has duplicate vals or not                                                                                                              \n",
    "we will check if the set contains all numbers from 1 to length(array) by using for loop to check for any missing values"
   ]
  }
 ],
 "metadata": {
  "kernelspec": {
   "display_name": "Python 3 (ipykernel)",
   "language": "python",
   "name": "python3"
  },
  "language_info": {
   "codemirror_mode": {
    "name": "ipython",
    "version": 3
   },
   "file_extension": ".py",
   "mimetype": "text/x-python",
   "name": "python",
   "nbconvert_exporter": "python",
   "pygments_lexer": "ipython3",
   "version": "3.9.16"
  }
 },
 "nbformat": 4,
 "nbformat_minor": 5
}
