{
 "cells": [
  {
   "cell_type": "markdown",
   "id": "abe0584a",
   "metadata": {},
   "source": [
    "#### Below 3 are the common functions and classes used in most of the following questions"
   ]
  },
  {
   "cell_type": "code",
   "execution_count": 1,
   "id": "e8767dd1",
   "metadata": {},
   "outputs": [],
   "source": [
    "class node:\n",
    "    def __init__(self,data):\n",
    "        self.data = data\n",
    "        self.next = None"
   ]
  },
  {
   "cell_type": "code",
   "execution_count": 2,
   "id": "477124ac",
   "metadata": {},
   "outputs": [],
   "source": [
    "class singlyLL:\n",
    "    def __init__(self):\n",
    "        self.head= None\n",
    "        self.count=0\n",
    "    def add(self, data):\n",
    "        newnode = node(data)\n",
    "        ptr = self.head\n",
    "        if ptr is None:\n",
    "            self.head = newnode\n",
    "        else:\n",
    "            while ptr.next is not None:\n",
    "                ptr = ptr.next\n",
    "            ptr.next = newnode\n",
    "        self.count+=1\n",
    "    def disp(self):\n",
    "        ptr = self.head\n",
    "        while ptr:\n",
    "            if ptr.next==None:\n",
    "                print(ptr.data)\n",
    "            else:\n",
    "                print(ptr.data,end='->')\n",
    "            ptr = ptr.next"
   ]
  },
  {
   "cell_type": "code",
   "execution_count": 3,
   "id": "715272b9",
   "metadata": {},
   "outputs": [],
   "source": [
    "def addLoop(head,x):\n",
    "    if x!=0:\n",
    "        ptr = head\n",
    "        for i in range(b.count-1):\n",
    "            if i == x-1:\n",
    "                temp = ptr\n",
    "            ptr = ptr.next\n",
    "        ptr.next = temp"
   ]
  },
  {
   "cell_type": "markdown",
   "id": "356c871a",
   "metadata": {},
   "source": [
    "### Question 1\n",
    "\n",
    "Given a singly linked list, delete **middle** of the linked list. For example, if given linked list is 1->2->**3**->4->5 then linked list should be modified to 1->2->4->5.If there are **even** nodes, then there would be **two middle** nodes, we need to delete the second middle element. For example, if given linked list is 1->2->3->4->5->6 then it should be modified to 1->2->3->5->6.If the input linked list is NULL or has 1 node, then it should return NULL\n",
    "\n",
    "**Example 1:**\n",
    "\n",
    "```\n",
    "Input:\n",
    "LinkedList: 1->2->3->4->5\n",
    "Output:1 2 4 5\n",
    "\n",
    "```\n",
    "\n",
    "**Example 2:**\n",
    "\n",
    "```\n",
    "Input:\n",
    "LinkedList: 2->4->6->7->5->1\n",
    "Output:2 4 6 5 1\n",
    "```"
   ]
  },
  {
   "cell_type": "code",
   "execution_count": 4,
   "id": "a36459da",
   "metadata": {},
   "outputs": [],
   "source": [
    "def del_mid(a):\n",
    "    n = a.count\n",
    "    mid = int((n+1)/2) if n%2!=0 else int((n/2)+1)\n",
    "    ptr = a.head\n",
    "    if ptr==None or a.count==1:\n",
    "        a.head=None\n",
    "        return None\n",
    "    else:\n",
    "        for i in range(mid-1):\n",
    "            ptr_prev=ptr\n",
    "            ptr=ptr.next\n",
    "        ptr_prev.next = ptr.next"
   ]
  },
  {
   "cell_type": "code",
   "execution_count": 5,
   "id": "fec19b79",
   "metadata": {},
   "outputs": [
    {
     "name": "stdout",
     "output_type": "stream",
     "text": [
      "1->2->3->4->5\n"
     ]
    }
   ],
   "source": [
    "a = singlyLL()\n",
    "a.add(1)\n",
    "a.add(2)\n",
    "a.add(3)\n",
    "a.add(4)\n",
    "a.add(5)\n",
    "a.disp()"
   ]
  },
  {
   "cell_type": "code",
   "execution_count": 6,
   "id": "52aac83e",
   "metadata": {},
   "outputs": [
    {
     "name": "stdout",
     "output_type": "stream",
     "text": [
      "1->2->4->5\n"
     ]
    }
   ],
   "source": [
    "del_mid(a)\n",
    "a.disp()"
   ]
  },
  {
   "cell_type": "markdown",
   "id": "7a592a9e",
   "metadata": {},
   "source": [
    "### Question 2**\n",
    "\n",
    "Given a linked list of **N** nodes. The task is to check if the linked list has a loop. Linked list can contain self loop.\n",
    "\n",
    "**Example 1:**\n",
    "\n",
    "```\n",
    "Input:\n",
    "N = 3\n",
    "value[] = {1,3,4}\n",
    "x(position at which tail is connected) = 2\n",
    "Output:True\n",
    "Explanation:In above test case N = 3.\n",
    "The linked list with nodes N = 3 is\n",
    "given. Then value of x=2 is given which\n",
    "means last node is connected with xth\n",
    "node of linked list. Therefore, there\n",
    "exists a loop.\n",
    "```\n",
    "\n",
    "**Example 2:**\n",
    "\n",
    "```\n",
    "Input:\n",
    "N = 4\n",
    "value[] = {1,8,3,4}\n",
    "x = 0\n",
    "Output:False\n",
    "Explanation:For N = 4 ,x = 0 means\n",
    "then lastNode->next = NULL, then\n",
    "the Linked list does not contains\n",
    "any loop.\n",
    "```"
   ]
  },
  {
   "cell_type": "code",
   "execution_count": 7,
   "id": "7387c257",
   "metadata": {},
   "outputs": [],
   "source": [
    "def isCycle(head):\n",
    "    slow = head\n",
    "    fast = head\n",
    "    while (slow and fast and fast.next):\n",
    "        slow = slow.next\n",
    "        fast = fast.next.next\n",
    "        if slow==fast:\n",
    "            return True\n",
    "    return False"
   ]
  },
  {
   "cell_type": "code",
   "execution_count": 8,
   "id": "1ed97e2d",
   "metadata": {
    "scrolled": true
   },
   "outputs": [
    {
     "data": {
      "text/plain": [
       "False"
      ]
     },
     "execution_count": 8,
     "metadata": {},
     "output_type": "execute_result"
    }
   ],
   "source": [
    "b = singlyLL()\n",
    "b.add(1)\n",
    "b.add(8)\n",
    "b.add(3)\n",
    "b.add(4)\n",
    "addLoop(b.head,0)\n",
    "isCycle(b.head)"
   ]
  },
  {
   "cell_type": "markdown",
   "id": "853208e3",
   "metadata": {},
   "source": [
    "### Question 3\n",
    "\n",
    "Given a linked list consisting of **L** nodes and given a number **N**. The task is to find the **N**th node from the end of the linked list.\n",
    "\n",
    "**Example 1:**\n",
    "\n",
    "```\n",
    "Input:\n",
    "N = 2\n",
    "LinkedList: 1->2->3->4->5->6->7->8->9\n",
    "Output:8\n",
    "Explanation:In the first example, there\n",
    "are 9 nodes in linked list and we need\n",
    "to find 2nd node from end. 2nd node\n",
    "from end is 8.\n",
    "\n",
    "```\n",
    "\n",
    "**Example 2:**\n",
    "\n",
    "```\n",
    "Input:\n",
    "N = 5\n",
    "LinkedList: 10->5->100->5\n",
    "Output:-1\n",
    "Explanation:In the second example, there\n",
    "are 4 nodes in the linked list and we\n",
    "need to find 5th from the end. Since 'n'\n",
    "is more than the number of nodes in the\n",
    "linked list, the output is -1.\n",
    "```"
   ]
  },
  {
   "cell_type": "code",
   "execution_count": 9,
   "id": "3e22fdf3",
   "metadata": {},
   "outputs": [
    {
     "name": "stdout",
     "output_type": "stream",
     "text": [
      "1->2->3->4->5->6->7->8->9\n"
     ]
    }
   ],
   "source": [
    "c = singlyLL()\n",
    "c.add(1)\n",
    "c.add(2)\n",
    "c.add(3)\n",
    "c.add(4)\n",
    "c.add(5)\n",
    "c.add(6)\n",
    "c.add(7)\n",
    "c.add(8)\n",
    "c.add(9)\n",
    "c.disp()"
   ]
  },
  {
   "cell_type": "code",
   "execution_count": 10,
   "id": "4f1fc078",
   "metadata": {},
   "outputs": [
    {
     "name": "stdout",
     "output_type": "stream",
     "text": [
      "8\n"
     ]
    }
   ],
   "source": [
    "# 1-POINTER\n",
    "n = 2\n",
    "cnt = c.count\n",
    "pos = cnt - n + 1\n",
    "ptr = c.head\n",
    "for i in range(pos-1):\n",
    "    ptr=ptr.next\n",
    "print(ptr.data) "
   ]
  },
  {
   "cell_type": "code",
   "execution_count": 11,
   "id": "38a6aa56",
   "metadata": {},
   "outputs": [
    {
     "name": "stdout",
     "output_type": "stream",
     "text": [
      "8\n"
     ]
    }
   ],
   "source": [
    "# 2-POINTER\n",
    "n = 2\n",
    "if n==c.count:\n",
    "    print(c.head.data)\n",
    "elif n < c.count:\n",
    "    ptr_left = c.head\n",
    "    ptr_right = c.head\n",
    "    for i in range(n-1):\n",
    "        ptr_right = ptr_right.next\n",
    "    while (ptr_left and ptr_right and ptr_right.next):\n",
    "        ptr_left = ptr_left.next\n",
    "        ptr_right = ptr_right.next\n",
    "    print(ptr_left.data)\n",
    "else:\n",
    "    print(-1)"
   ]
  },
  {
   "cell_type": "markdown",
   "id": "3f29bbc1",
   "metadata": {},
   "source": [
    "### Question 4**\n",
    "\n",
    "Given a singly linked list of characters, write a function that returns true if the given list is a palindrome, else false.\n",
    "\n",
    "!https://media.geeksforgeeks.org/wp-content/uploads/20220816144425/LLdrawio.png\n",
    "\n",
    "**Examples:**\n",
    "```\n",
    "Input: R->A->D->A->R->NULL\n",
    "Output: Yes\n",
    "```\n",
    "```\n",
    "Input C->O->D->E->NULL\n",
    "Output: No\n",
    "```"
   ]
  },
  {
   "cell_type": "code",
   "execution_count": 12,
   "id": "27fe30d5",
   "metadata": {},
   "outputs": [],
   "source": [
    "def checkPalindrome(head):\n",
    "    ptr = head\n",
    "    st = []\n",
    "    while ptr:\n",
    "        st.append(ptr.data)\n",
    "        ptr = ptr.next\n",
    "    ptr = head\n",
    "    while ptr:\n",
    "        x = st.pop()\n",
    "        if ptr.data != x:\n",
    "            return False\n",
    "        ptr = ptr.next\n",
    "    return True "
   ]
  },
  {
   "cell_type": "code",
   "execution_count": 13,
   "id": "e0385afc",
   "metadata": {},
   "outputs": [
    {
     "name": "stdout",
     "output_type": "stream",
     "text": [
      "R->A->D->A->R\n"
     ]
    },
    {
     "data": {
      "text/plain": [
       "True"
      ]
     },
     "execution_count": 13,
     "metadata": {},
     "output_type": "execute_result"
    }
   ],
   "source": [
    "d = singlyLL()\n",
    "d.add('R')\n",
    "d.add('A')\n",
    "d.add('D')\n",
    "d.add('A')\n",
    "d.add('R')\n",
    "d.disp()\n",
    "checkPalindrome(d.head)"
   ]
  },
  {
   "cell_type": "markdown",
   "id": "9851d2e8",
   "metadata": {},
   "source": [
    "### Question 5\n",
    "\n",
    "Given a linked list of **N** nodes such that it may contain a loop.\n",
    "\n",
    "A loop here means that the last node of the link list is connected to the node at position X(1-based index). If the link list does not have any loop, X=0.\n",
    "\n",
    "Remove the loop from the linked list, if it is present, i.e. unlink the last node which is forming the loop.\n",
    "\n",
    "**Example 1:**\n",
    "\n",
    "```\n",
    "Input:\n",
    "N = 3\n",
    "value[] = {1,3,4}\n",
    "X = 2\n",
    "Output:1\n",
    "Explanation:The link list looks like\n",
    "1 -> 3 -> 4\n",
    "     ^    |\n",
    "     |____|\n",
    "A loop is present. If you remove it\n",
    "successfully, the answer will be 1.\n",
    "\n",
    "```\n",
    "\n",
    "**Example 2:**\n",
    "\n",
    "```\n",
    "Input:\n",
    "N = 4\n",
    "value[] = {1,8,3,4}\n",
    "X = 0\n",
    "Output:1\n",
    "Explanation:The Linked list does not\n",
    "contains any loop.\n",
    "```\n",
    "\n",
    "**Example 3:**\n",
    "\n",
    "```\n",
    "Input:\n",
    "N = 4\n",
    "value[] = {1,2,3,4}\n",
    "X = 1\n",
    "Output:1\n",
    "Explanation:The link list looks like\n",
    "1 -> 2 -> 3 -> 4\n",
    "^              |\n",
    "|______________|\n",
    "A loop is present.\n",
    "If you remove it successfully,\n",
    "the answer will be 1.\n",
    "```"
   ]
  },
  {
   "cell_type": "code",
   "execution_count": 14,
   "id": "0e2a9d53",
   "metadata": {},
   "outputs": [],
   "source": [
    "def removeLoop(head):\n",
    "    s1 = set()\n",
    "    ptr = head\n",
    "    prev_ptr = head\n",
    "    while ptr:\n",
    "        if ptr in s1:\n",
    "            break\n",
    "        else:\n",
    "            s1.add(ptr)\n",
    "            prev_ptr = ptr\n",
    "            ptr = ptr.next\n",
    "    prev_ptr.next = None"
   ]
  },
  {
   "cell_type": "code",
   "execution_count": 15,
   "id": "4dc6d101",
   "metadata": {},
   "outputs": [],
   "source": [
    "e = singlyLL()\n",
    "e.add(1)\n",
    "e.add(2)\n",
    "e.add(3)\n",
    "e.add(4)\n",
    "loop = 3\n",
    "addLoop(e.head, loop)"
   ]
  },
  {
   "cell_type": "code",
   "execution_count": 16,
   "id": "7033e4d1",
   "metadata": {},
   "outputs": [
    {
     "name": "stdout",
     "output_type": "stream",
     "text": [
      "1->2->3->4\n"
     ]
    }
   ],
   "source": [
    "removeLoop(e.head)\n",
    "e.disp()"
   ]
  },
  {
   "cell_type": "markdown",
   "id": "fae521a4",
   "metadata": {},
   "source": [
    "### Question 6\n",
    "\n",
    "Given a linked list and two integers M and N. Traverse the linked list such that you retain M nodes then delete next N nodes, continue the same till end of the linked list.\n",
    "\n",
    "Difficulty Level: Rookie\n",
    "\n",
    "**Examples**:\n",
    "\n",
    "```\n",
    "Input:\n",
    "M = 2, N = 2\n",
    "Linked List: 1->2->3->4->5->6->7->8\n",
    "Output:\n",
    "Linked List: 1->2->5->6\n",
    "\n",
    "Input:\n",
    "M = 3, N = 2\n",
    "Linked List: 1->2->3->4->5->6->7->8->9->10\n",
    "Output:\n",
    "Linked List: 1->2->3->6->7->8\n",
    "\n",
    "Input:\n",
    "M = 1, N = 1\n",
    "Linked List: 1->2->3->4->5->6->7->8->9->10\n",
    "Output:\n",
    "Linked List: 1->3->5->7->9\n",
    "```"
   ]
  },
  {
   "cell_type": "code",
   "execution_count": 17,
   "id": "7bd9ba8b",
   "metadata": {},
   "outputs": [],
   "source": [
    "def modifyLL(a,m,n):\n",
    "    print(\"Before : \");a.disp()\n",
    "    ptr = a.head\n",
    "    while ptr:\n",
    "        for i in range(m):\n",
    "            if ptr:\n",
    "                temp = ptr\n",
    "                ptr = ptr.next\n",
    "        for j in range(n):\n",
    "            if ptr:\n",
    "                ptr = ptr.next\n",
    "        temp.next = ptr\n",
    "    print(\"After : \");a.disp()"
   ]
  },
  {
   "cell_type": "code",
   "execution_count": 18,
   "id": "7857daad",
   "metadata": {},
   "outputs": [
    {
     "name": "stdout",
     "output_type": "stream",
     "text": [
      "Before : \n",
      "1->2->3->4->5->6->7->8\n",
      "After : \n",
      "1->2->5->6\n"
     ]
    }
   ],
   "source": [
    "f = singlyLL()\n",
    "f.add(1)\n",
    "f.add(2)\n",
    "f.add(3)\n",
    "f.add(4)\n",
    "f.add(5)\n",
    "f.add(6)\n",
    "f.add(7)\n",
    "f.add(8)\n",
    "# f.add(9)\n",
    "# f.add(10)\n",
    "m = 2\n",
    "n = 2\n",
    "modifyLL(f,m,n)"
   ]
  },
  {
   "cell_type": "markdown",
   "id": "652af547",
   "metadata": {},
   "source": [
    "### Question 7\n",
    "\n",
    "Given two linked lists, insert nodes of second list into first list at alternate positions of first list.\n",
    "For example, if first list is 5->7->17->13->11 and second is 12->10->2->4->6, the first list should become 5->12->7->10->17->2->13->4->11->6 and second list should become empty. The nodes of second list should only be inserted when there are positions available. For example, if the first list is 1->2->3 and second list is 4->5->6->7->8, then first list should become 1->4->2->5->3->6 and second list to 7->8.\n",
    "\n",
    "Use of extra space is not allowed (Not allowed to create additional nodes), i.e., insertion must be done in-place. Expected time complexity is O(n) where n is number of nodes in first list."
   ]
  },
  {
   "cell_type": "code",
   "execution_count": 19,
   "id": "97119ffd",
   "metadata": {},
   "outputs": [],
   "source": [
    "def merge_alternate(a,b):\n",
    "    print('Before')\n",
    "    print('a = ',end='');a.disp()\n",
    "    print('b = ',end='');b.disp()\n",
    "    ptr = a.head\n",
    "    while ptr and b.head:\n",
    "        temp = b.head\n",
    "        b.head = temp.next\n",
    "        temp.next = ptr.next\n",
    "        ptr.next = temp\n",
    "        ptr = temp.next\n",
    "    print('\\nAfter')\n",
    "    print('a = ',end='');a.disp()\n",
    "    print('b = ',end='');b.disp()"
   ]
  },
  {
   "cell_type": "code",
   "execution_count": 20,
   "id": "cc35a570",
   "metadata": {},
   "outputs": [
    {
     "name": "stdout",
     "output_type": "stream",
     "text": [
      "Before\n",
      "a = 1->2->3\n",
      "b = 4->5->6->7->8\n",
      "\n",
      "After\n",
      "a = 1->4->2->5->3->6\n",
      "b = 7->8\n"
     ]
    }
   ],
   "source": [
    "l1 = singlyLL()\n",
    "l1.add(1);l1.add(2);l1.add(3)\n",
    "\n",
    "l2 = singlyLL()\n",
    "l2.add(4);l2.add(5);l2.add(6);l2.add(7);l2.add(8);\n",
    "\n",
    "merge_alternate(l1,l2)"
   ]
  },
  {
   "cell_type": "markdown",
   "id": "192d758e",
   "metadata": {},
   "source": [
    "### Question 8\n",
    "\n",
    "Given a singly linked list, find if the linked list is [circular](https://www.geeksforgeeks.org/circular-linked-list/amp/) or not.\n",
    "\n",
    "> A linked list is called circular if it is not NULL-terminated and all nodes are connected in the form of a cycle. Below is an example of a circular linked list."
   ]
  },
  {
   "cell_type": "code",
   "execution_count": 21,
   "id": "fcfaace4",
   "metadata": {},
   "outputs": [],
   "source": [
    "def isCircular(head):\n",
    "    ptr = head\n",
    "    while ptr:\n",
    "        ptr = ptr.next\n",
    "        if ptr==a.head:\n",
    "            return 'Circular'\n",
    "    return 'Not Circular'"
   ]
  },
  {
   "cell_type": "code",
   "execution_count": 22,
   "id": "f735688c",
   "metadata": {},
   "outputs": [
    {
     "data": {
      "text/plain": [
       "'Circular'"
      ]
     },
     "execution_count": 22,
     "metadata": {},
     "output_type": "execute_result"
    }
   ],
   "source": [
    "a = singlyLL()\n",
    "a.add(10)\n",
    "a.add(12)\n",
    "a.add(14)\n",
    "a.add(16)\n",
    "addLoop(a.head,1)\n",
    "isCircular(a.head)"
   ]
  }
 ],
 "metadata": {
  "kernelspec": {
   "display_name": "Python 3 (ipykernel)",
   "language": "python",
   "name": "python3"
  },
  "language_info": {
   "codemirror_mode": {
    "name": "ipython",
    "version": 3
   },
   "file_extension": ".py",
   "mimetype": "text/x-python",
   "name": "python",
   "nbconvert_exporter": "python",
   "pygments_lexer": "ipython3",
   "version": "3.9.16"
  }
 },
 "nbformat": 4,
 "nbformat_minor": 5
}
