{
 "cells": [
  {
   "cell_type": "markdown",
   "id": "2a65574b",
   "metadata": {},
   "source": [
    "### Question 1\n",
    "\n",
    "Given two strings s and t, *determine if they are isomorphic*.\n",
    "\n",
    "Two strings s and t are isomorphic if the characters in s can be replaced to get t.\n",
    "\n",
    "All occurrences of a character must be replaced with another character while preserving the order of characters. No two characters may map to the same character, but a character may map to itself.\n",
    "\n",
    "**Example 1:**\n",
    "\n",
    "**Input:** s = \"egg\", t = \"add\"\n",
    "\n",
    "**Output:** true\n",
    "\n",
    "</aside>"
   ]
  },
  {
   "cell_type": "code",
   "execution_count": 118,
   "id": "e19744c9",
   "metadata": {},
   "outputs": [
    {
     "data": {
      "text/plain": [
       "True"
      ]
     },
     "execution_count": 118,
     "metadata": {},
     "output_type": "execute_result"
    }
   ],
   "source": [
    "def isomorphic(s,t):\n",
    "    map_s = {}; map_t = {}\n",
    "    s_transform = \"\"; t_transform = \"\"\n",
    "# MAPPING LETTERS TO NUMBERS\n",
    "    for map_num,letter in enumerate(s):\n",
    "        if letter not in map_s:\n",
    "            map_s[letter] = map_num\n",
    "    for map_num,letter in enumerate(t):\n",
    "        if letter not in map_t:\n",
    "            map_t[letter] = map_num\n",
    "# TRANSFORMING\n",
    "    for letter in s:\n",
    "        if letter in map_s:\n",
    "            s_transform = s_transform+str(map_s[letter])+' '\n",
    "    for letter in t:\n",
    "        if letter in map_t:\n",
    "            t_transform = t_transform+str(map_t[letter])+' '\n",
    "    return (s_transform==t_transform)\n",
    "\n",
    "s = \"egg\"\n",
    "t = \"add\"\n",
    "isomorphic(s,t)"
   ]
  },
  {
   "cell_type": "markdown",
   "id": "4116667c",
   "metadata": {},
   "source": [
    "### Question 2\n",
    "\n",
    "Given a string num which represents an integer, return true *if* num *is a **strobogrammatic number***.\n",
    "\n",
    "A **strobogrammatic number** is a number that looks the same when rotated 180 degrees (looked at upside down).\n",
    "\n",
    "**Example 1:**\n",
    "\n",
    "**Input:** num = \"69\"\n",
    "\n",
    "**Output:**\n",
    "\n",
    "true\n",
    "\n",
    "</aside>"
   ]
  },
  {
   "cell_type": "code",
   "execution_count": 129,
   "id": "aace0f6b",
   "metadata": {},
   "outputs": [
    {
     "data": {
      "text/plain": [
       "True"
      ]
     },
     "execution_count": 129,
     "metadata": {},
     "output_type": "execute_result"
    }
   ],
   "source": [
    "def strobogrammatic(num):\n",
    "    same_num = {('0','0'), ('1','1'), ('6','9'), ('8','8'), ('9','6')}\n",
    "    i=0; j=len(num)-1\n",
    "    while i<j:\n",
    "        if (num[i],num[j]) in a:\n",
    "            i+=1\n",
    "            j-=1\n",
    "        else:\n",
    "            return False\n",
    "    return True\n",
    "num = \"69\"\n",
    "strobogrammatic(num)"
   ]
  },
  {
   "cell_type": "markdown",
   "id": "9aaddec5",
   "metadata": {},
   "source": [
    "### Question 3\n",
    "\n",
    "Given two non-negative integers, num1 and num2 represented as string, return *the sum of* num1 *and* num2 *as a string*.\n",
    "\n",
    "You must solve the problem without using any built-in library for handling large integers (such as BigInteger). You must also not convert the inputs to integers directly.\n",
    "\n",
    "**Example 1:**\n",
    "\n",
    "**Input:** num1 = \"11\", num2 = \"123\"\n",
    "\n",
    "**Output:**\n",
    "\n",
    "\"134\"\n",
    "\n",
    "</aside>"
   ]
  },
  {
   "cell_type": "markdown",
   "id": "f04224e7",
   "metadata": {},
   "source": [
    "### Question 4\n",
    "\n",
    "Given a string s, reverse the order of characters in each word within a sentence while still preserving whitespace and initial word order.\n",
    "\n",
    "**Example 1:**\n",
    "\n",
    "**Input:** s = \"Let's take LeetCode contest\"\n",
    "\n",
    "**Output:** \"s'teL ekat edoCteeL tsetnoc\"\n",
    "\n",
    "</aside>"
   ]
  },
  {
   "cell_type": "code",
   "execution_count": 142,
   "id": "26f037bb",
   "metadata": {},
   "outputs": [
    {
     "data": {
      "text/plain": [
       "\"s'teL ekat edoCteeL tsetnoc\""
      ]
     },
     "execution_count": 142,
     "metadata": {},
     "output_type": "execute_result"
    }
   ],
   "source": [
    "def reverse_char(s):\n",
    "    b = [x[::-1] for x in s.split()]\n",
    "    new_str = ' '.join(b)\n",
    "    return new_str\n",
    "s = \"Let's take LeetCode contest\"\n",
    "reverse_char(s)"
   ]
  },
  {
   "cell_type": "markdown",
   "id": "8fc2ce9c",
   "metadata": {},
   "source": [
    "### Question 5\n",
    "\n",
    "Given a string s and an integer k, reverse the first k characters for every 2k characters counting from the start of the string.\n",
    "\n",
    "If there are fewer than k characters left, reverse all of them. If there are less than 2k but greater than or equal to k characters, then reverse the first k characters and leave the other as original.\n",
    "\n",
    "**Example 1:**\n",
    "\n",
    "**Input:** s = \"abcdefg\", k = 2\n",
    "\n",
    "**Output:**\n",
    "\n",
    "\"bacdfeg\"\n",
    "\n",
    "</aside>"
   ]
  },
  {
   "cell_type": "markdown",
   "id": "2bc1d479",
   "metadata": {},
   "source": [
    "### Question 6\n",
    "\n",
    "Given two strings s and goal, return true *if and only if* s *can become* goal *after some number of **shifts** on* s.\n",
    "\n",
    "A **shift** on s consists of moving the leftmost character of s to the rightmost position.\n",
    "\n",
    "- For example, if s = \"abcde\", then it will be \"bcdea\" after one shift.\n",
    "\n",
    "**Example 1:**\n",
    "\n",
    "**Input:** s = \"abcde\", goal = \"cdeab\"\n",
    "\n",
    "**Output:**\n",
    "\n",
    "true\n",
    "\n",
    "</aside>"
   ]
  },
  {
   "cell_type": "code",
   "execution_count": 159,
   "id": "4ae010bb",
   "metadata": {},
   "outputs": [
    {
     "data": {
      "text/plain": [
       "False"
      ]
     },
     "execution_count": 159,
     "metadata": {},
     "output_type": "execute_result"
    }
   ],
   "source": [
    "def shift(s,goal):\n",
    "    for i in range(len(s)-1):\n",
    "        s = s[1:]+s[0]\n",
    "        if s==goal:\n",
    "            return True\n",
    "    return False\n",
    "s = \"abcde\"\n",
    "goal = \"abced\"\n",
    "shift(s,goal)"
   ]
  },
  {
   "cell_type": "markdown",
   "id": "4fe31570",
   "metadata": {},
   "source": [
    "### Question 7\n",
    "Given two strings s and t, return true *if they are equal when both are typed into empty text editors*. '#' means a backspace character.\n",
    "\n",
    "Note that after backspacing an empty text, the text will continue empty.\n",
    "\n",
    "**Example 1:**\n",
    "\n",
    "**Input:** s = \"ab#c\", t = \"ad#c\"\n",
    "\n",
    "**Output:** true\n",
    "\n",
    "**Explanation:**\n",
    "\n",
    "Both s and t become \"ac\".\n",
    "\n",
    "</aside>"
   ]
  },
  {
   "cell_type": "code",
   "execution_count": 171,
   "id": "1c2ec2cf",
   "metadata": {},
   "outputs": [],
   "source": [
    "s = \"ab#bcd##il\"\n",
    "t = \"ad#c\""
   ]
  },
  {
   "cell_type": "code",
   "execution_count": 203,
   "id": "c4112376",
   "metadata": {},
   "outputs": [
    {
     "data": {
      "text/plain": [
       "True"
      ]
     },
     "execution_count": 203,
     "metadata": {},
     "output_type": "execute_result"
    }
   ],
   "source": [
    "def equal(s,t):\n",
    "    q =[]; r =[]\n",
    "    for i in range(len(s)):\n",
    "        if s[i]=='#':\n",
    "            if q:\n",
    "                q.pop()\n",
    "        else:\n",
    "            q.append(s[i])\n",
    "    for i in range(len(t)):\n",
    "        if t[i]=='#':\n",
    "            if r:\n",
    "                r.pop()\n",
    "        else:\n",
    "            r.append(t[i])\n",
    "    s = ''.join(q)\n",
    "    t = ''.join(r)\n",
    "    return s==t\n",
    "s = \"ab#c\"\n",
    "t = \"ad#c\"\n",
    "equal(s,t)"
   ]
  },
  {
   "cell_type": "markdown",
   "id": "bbc435f1",
   "metadata": {},
   "source": [
    "### Question 8\n",
    "\n",
    "You are given an array coordinates, coordinates[i] = [x, y], where [x, y] represents the coordinate of a point. Check if these points make a straight line in the XY plane.\n",
    "\n",
    "**Example 1:**\n",
    "\n",
    "[Screenshot 2023-05-29 010117.png](https://s3-us-west-2.amazonaws.com/secure.notion-static.com/012b0a97-4e4b-49b6-bc95-0531fc712978/Screenshot_2023-05-29_010117.png)\n",
    "\n",
    "\n",
    "\n",
    "**Input:** coordinates = [[1,2],[2,3],[3,4],[4,5],[5,6],[6,7]]\n",
    "\n",
    "**Output:** true\n"
   ]
  },
  {
   "cell_type": "code",
   "execution_count": 216,
   "id": "d93e32f9",
   "metadata": {},
   "outputs": [
    {
     "data": {
      "text/plain": [
       "True"
      ]
     },
     "execution_count": 216,
     "metadata": {},
     "output_type": "execute_result"
    }
   ],
   "source": [
    "def straight_line(c):\n",
    "    slope = (c[1][1]-c[0][1])/(c[1][0]-c[0][0])\n",
    "    for i in range(1,len(coordinates)-1):\n",
    "        if (c[i+1][1]-c[i][1])/(c[i+1][0]-c[i][0]) != slope:\n",
    "            return False\n",
    "    return True\n",
    "coordinates = [[1,2],[2,3],[3,4],[4,5],[5,6],[6,7]]\n",
    "straight_line(coordinates)"
   ]
  }
 ],
 "metadata": {
  "kernelspec": {
   "display_name": "Python 3 (ipykernel)",
   "language": "python",
   "name": "python3"
  },
  "language_info": {
   "codemirror_mode": {
    "name": "ipython",
    "version": 3
   },
   "file_extension": ".py",
   "mimetype": "text/x-python",
   "name": "python",
   "nbconvert_exporter": "python",
   "pygments_lexer": "ipython3",
   "version": "3.9.16"
  }
 },
 "nbformat": 4,
 "nbformat_minor": 5
}
