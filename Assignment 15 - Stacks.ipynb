{
 "cells": [
  {
   "cell_type": "markdown",
   "id": "94c7cf2b",
   "metadata": {},
   "source": [
    "### <aside>\n",
    "💡 **Question 1**\n",
    "\n",
    "Given an array **arr[ ]** of size **N** having elements, the task is to find the next greater element for each element of the array in order of their appearance in the array.Next greater element of an element in the array is the nearest element on the right which is greater than the current element.If there does not exist next greater of current element, then next greater element for current element is -1. For example, next greater of the last element is always -1.\n",
    "\n",
    "**Example 1:**\n",
    "\n",
    "```\n",
    "Input:\n",
    "N = 4, arr[] = [1 3 2 4]\n",
    "Output:\n",
    "3 4 4 -1\n",
    "Explanation:\n",
    "In the array, the next larger element\n",
    "to 1 is 3 , 3 is 4 , 2 is 4 and for 4 ?\n",
    "since it doesn't exist, it is -1.\n",
    "\n",
    "```\n",
    "\n",
    "**Example 2:**\n",
    "\n",
    "```\n",
    "Input:\n",
    "N = 5, arr[] [6 8 0 1 3]\n",
    "Output:\n",
    "8 -1 1 3 -1\n",
    "Explanation:\n",
    "In the array, the next larger element to\n",
    "6 is 8, for 8 there is no larger elements\n",
    "hence it is -1, for 0 it is 1 , for 1 it\n",
    "is 3 and then for 3 there is no larger\n",
    "element on right and hence -1.\n",
    "```"
   ]
  },
  {
   "cell_type": "code",
   "execution_count": 1,
   "id": "e33aaabf",
   "metadata": {},
   "outputs": [
    {
     "name": "stdout",
     "output_type": "stream",
     "text": [
      "[3, 4, 4, -1]\n"
     ]
    }
   ],
   "source": [
    "arr = [1,3, 2, 4]\n",
    "st=[]\n",
    "b=[-1]*len(arr)\n",
    "for i, val in enumerate(arr):\n",
    "    while st and arr[st[-1]] < val:\n",
    "        b[st.pop()] = val\n",
    "    st.append(i)\n",
    "for i, val in enumerate(arr):\n",
    "    while st and arr[st[-1]] < val:  \n",
    "        b[st.pop()] = val\n",
    "b[-1]=-1\n",
    "print(b)"
   ]
  },
  {
   "cell_type": "markdown",
   "id": "a5683eac",
   "metadata": {},
   "source": [
    "### Question 2**\n",
    "\n",
    "Given an array **a** of integers of length **n**, find the nearest smaller number for every element such that the smaller element is on left side.If no small element present on the left print -1.\n",
    "\n",
    "**Example 1:**\n",
    "\n",
    "```\n",
    "Input: n = 3\n",
    "a = {1, 6, 2}\n",
    "Output: -1 1 1\n",
    "Explaination: There is no number at the\n",
    "left of 1. Smaller number than 6 and 2 is 1.\n",
    "```\n",
    "\n",
    "**Example 2:**\n",
    "\n",
    "```\n",
    "Input: n = 6\n",
    "a = {1, 5, 0, 3, 4, 5}\n",
    "Output: -1 1 -1 0 3 4\n",
    "Explaination: Upto 3 it is easy to see\n",
    "the smaller numbers. But for 4 the smaller\n",
    "numbers are 1, 0 and 3. But among them 3\n",
    "is closest. Similary for 5 it is 4.\n",
    "```\n"
   ]
  },
  {
   "cell_type": "code",
   "execution_count": 2,
   "id": "417aaeca",
   "metadata": {},
   "outputs": [
    {
     "name": "stdout",
     "output_type": "stream",
     "text": [
      "[-1, 1, -1, 0, 3, 4]\n"
     ]
    }
   ],
   "source": [
    "arr = [1, 5, 0, 3, 4, 5]\n",
    "arr=arr[::-1]\n",
    "st=[]\n",
    "b=[-1]*len(arr)\n",
    "for i, val in enumerate(arr):\n",
    "    while st and arr[st[-1]] > val:\n",
    "        b[st.pop()] = val\n",
    "    st.append(i)\n",
    "for i, val in enumerate(arr):\n",
    "    while st and arr[st[-1]] > val:\n",
    "        b[st.pop()] = val\n",
    "b=b[::-1]\n",
    "b[0]=-1\n",
    "print(b)"
   ]
  },
  {
   "cell_type": "markdown",
   "id": "329da196",
   "metadata": {},
   "source": [
    "### Question 3**\n",
    "\n",
    "Implement a Stack using two queues **q1** and **q2**.\n",
    "\n",
    "**Example 1:**\n",
    "\n",
    "```\n",
    "Input:\n",
    "push(2)\n",
    "push(3)\n",
    "pop()\n",
    "push(4)\n",
    "pop()\n",
    "Output:3 4\n",
    "Explanation:\n",
    "push(2) the stack will be {2}\n",
    "push(3) the stack will be {2 3}\n",
    "pop()   poped element will be 3 the\n",
    "        stack will be {2}\n",
    "push(4) the stack will be {2 4}\n",
    "pop()   poped element will be 4\n",
    "\n",
    "```\n",
    "\n",
    "**Example 2:**\n",
    "\n",
    "</aside>"
   ]
  },
  {
   "cell_type": "code",
   "execution_count": 3,
   "id": "9fd3168f",
   "metadata": {},
   "outputs": [],
   "source": [
    "q1 = []\n",
    "q2 = []\n",
    "def isEmpty(q):\n",
    "    return not q\n",
    "def disp(q):\n",
    "    if isEmpty(q):\n",
    "        return 'Stack is empty.'\n",
    "    if len(q)==1:\n",
    "        print(q[0],' -> top')\n",
    "    else:\n",
    "        for i in range(len(q)-1):\n",
    "            print(q[i])\n",
    "        print(q[len(q)-1],' -> top')\n",
    "def push(val):\n",
    "    q1.append(val)\n",
    "def pop():\n",
    "    while len(q1)!=1:\n",
    "        q2.append(q1.pop(0))\n",
    "    item=q1.pop(0)\n",
    "    while q2!=[]:\n",
    "        q1.append(q2.pop(0))\n",
    "    return item\n",
    "def peek():\n",
    "    while len(q1)!=1:\n",
    "        q2.append(q1.pop(0))\n",
    "    item=q1[0]\n",
    "    while q2!=[]:\n",
    "        q1.append(q2.pop(0))\n",
    "    return item"
   ]
  },
  {
   "cell_type": "code",
   "execution_count": 4,
   "id": "0b24bc0d",
   "metadata": {},
   "outputs": [],
   "source": [
    "push(2)"
   ]
  },
  {
   "cell_type": "code",
   "execution_count": 5,
   "id": "3b90d588",
   "metadata": {},
   "outputs": [],
   "source": [
    "push(3)"
   ]
  },
  {
   "cell_type": "code",
   "execution_count": 6,
   "id": "e592bd33",
   "metadata": {},
   "outputs": [
    {
     "data": {
      "text/plain": [
       "3"
      ]
     },
     "execution_count": 6,
     "metadata": {},
     "output_type": "execute_result"
    }
   ],
   "source": [
    "pop()"
   ]
  },
  {
   "cell_type": "code",
   "execution_count": 7,
   "id": "9917c1bf",
   "metadata": {},
   "outputs": [],
   "source": [
    "push(4)"
   ]
  },
  {
   "cell_type": "code",
   "execution_count": 8,
   "id": "9978b374",
   "metadata": {},
   "outputs": [
    {
     "data": {
      "text/plain": [
       "4"
      ]
     },
     "execution_count": 8,
     "metadata": {},
     "output_type": "execute_result"
    }
   ],
   "source": [
    "pop()"
   ]
  },
  {
   "cell_type": "markdown",
   "id": "81cc863e",
   "metadata": {},
   "source": [
    "### Question 4**\n",
    "\n",
    "You are given a stack **St**. You have to reverse the stack using recursion.\n",
    "\n",
    "**Example 1:**\n",
    "\n",
    "```\n",
    "Input:St = {3,2,1,7,6}\n",
    "Output:{6,7,1,2,3}\n",
    "```\n",
    "\n",
    "**Example 2:**\n",
    "\n",
    "```\n",
    "Input:St = {4,3,9,6}\n",
    "Output:{6,9,3,4}\n",
    "```"
   ]
  },
  {
   "cell_type": "code",
   "execution_count": 9,
   "id": "4326a07a",
   "metadata": {},
   "outputs": [],
   "source": [
    "st = [4,3,9,6]\n",
    "def rev(st):\n",
    "    if st==[]:\n",
    "        return\n",
    "    temp = st.pop()\n",
    "    rev(st)\n",
    "    insert_rev(temp)\n",
    "def insert_rev(item):\n",
    "    if st==[]:\n",
    "        st.append(item)\n",
    "    else:\n",
    "        temp1 = st.pop()\n",
    "        insert_rev(item)\n",
    "        st.append(temp1)"
   ]
  },
  {
   "cell_type": "markdown",
   "id": "b7421ec6",
   "metadata": {},
   "source": [
    "### Question 5\n",
    "\n",
    "You are given a string **S**, the task is to reverse the string using stack.\n",
    "\n",
    "**Example 1:**\n",
    "\n",
    "```\n",
    "Input: S=\"GeeksforGeeks\"\n",
    "Output: skeeGrofskeeG\n",
    "```"
   ]
  },
  {
   "cell_type": "code",
   "execution_count": 10,
   "id": "c1c58872",
   "metadata": {},
   "outputs": [
    {
     "name": "stdout",
     "output_type": "stream",
     "text": [
      "skeeGrofskeeG\n"
     ]
    }
   ],
   "source": [
    "s = \"GeeksforGeeks\"\n",
    "st = []\n",
    "for i in s:\n",
    "    st.append(i)\n",
    "s=''\n",
    "while st:\n",
    "    s += st.pop()\n",
    "print(s)"
   ]
  },
  {
   "cell_type": "markdown",
   "id": "4b5cbaf7",
   "metadata": {},
   "source": [
    "### Question 6\n",
    "\n",
    "Given string **S** representing a postfix expression, the task is to evaluate the expression and find the final value. Operators will only include the basic arithmetic operators like ***, /, + and -**.\n",
    "\n",
    "**Example 1:**\n",
    "\n",
    "```\n",
    "Input: S = \"231*+9-\"\n",
    "Output: -4\n",
    "Explanation:\n",
    "After solving the given expression,\n",
    "we have -4 as result.\n",
    "\n",
    "```\n",
    "\n",
    "**Example 2:**\n",
    "\n",
    "```\n",
    "Input: S = \"123+*8-\"\n",
    "Output: -3\n",
    "Explanation:\n",
    "After solving the given postfix\n",
    "expression, we have -3 as result.\n",
    "```"
   ]
  },
  {
   "cell_type": "code",
   "execution_count": 11,
   "id": "428db8ed",
   "metadata": {},
   "outputs": [
    {
     "data": {
      "text/plain": [
       "'-3'"
      ]
     },
     "execution_count": 11,
     "metadata": {},
     "output_type": "execute_result"
    }
   ],
   "source": [
    "S = \"123+*8-\"\n",
    "st = []\n",
    "for i in S:\n",
    "    if st:\n",
    "        if i>='0' and i<='9':\n",
    "            st.append(i)\n",
    "        elif i in ['*', '/', '+', '-']:\n",
    "            a = st.pop()\n",
    "            b = st.pop()\n",
    "            ans = str(eval(b+i+a))\n",
    "            st.append(ans)\n",
    "    else:\n",
    "        st.append(i)\n",
    "st.pop()"
   ]
  },
  {
   "cell_type": "markdown",
   "id": "1a4faa6d",
   "metadata": {},
   "source": [
    "### Question 7\n",
    "\n",
    "Design a stack that supports push, pop, top, and retrieving the minimum element in constant time.\n",
    "\n",
    "Implement the `MinStack` class:\n",
    "\n",
    "- `MinStack()` initializes the stack object.\n",
    "- `void push(int val)` pushes the element `val` onto the stack.\n",
    "- `void pop()` removes the element on the top of the stack.\n",
    "- `int top()` gets the top element of the stack.\n",
    "- `int getMin()` retrieves the minimum element in the stack.\n",
    "\n",
    "You must implement a solution with `O(1)` time complexity for each function.\n",
    "\n",
    "**Example 1:**\n",
    "\n",
    "```\n",
    "Input\n",
    "[\"MinStack\",\"push\",\"push\",\"push\",\"getMin\",\"pop\",\"top\",\"getMin\"]\n",
    "[[],[-2],[0],[-3],[],[],[],[]]\n",
    "\n",
    "Output\n",
    "[null,null,null,null,-3,null,0,-2]\n",
    "\n",
    "Explanation\n",
    "MinStack minStack = new MinStack();\n",
    "minStack.push(-2);\n",
    "minStack.push(0);\n",
    "minStack.push(-3);\n",
    "minStack.getMin(); // return -3\n",
    "minStack.pop();\n",
    "minStack.top();    // return 0\n",
    "minStack.getMin(); // return -2\n",
    "```"
   ]
  },
  {
   "cell_type": "code",
   "execution_count": 12,
   "id": "c685ab2e",
   "metadata": {},
   "outputs": [],
   "source": [
    "class MinStack:\n",
    "    def __init__(self):\n",
    "        self.st = []\n",
    "        self.cur_min  = 99999999\n",
    "        self.prev_min = 99999999\n",
    "    def push(self, val):\n",
    "        self.st.append(val)\n",
    "        if val < self.cur_min:\n",
    "            self.prev_min = self.cur_min\n",
    "            self.cur_min = val\n",
    "            \n",
    "    def top(self):\n",
    "        if self.st:\n",
    "            return self.st[-1]\n",
    "        return None\n",
    "    \n",
    "    def pop(self):\n",
    "        if self.st:\n",
    "            self.st.pop()\n",
    "            self.cur_min = self.prev_min\n",
    "            return None\n",
    "        return 'UNDERFLOW'\n",
    "    \n",
    "    def getMin(self):\n",
    "        if self.st:\n",
    "            return self.cur_min\n",
    "        return None"
   ]
  },
  {
   "cell_type": "code",
   "execution_count": 13,
   "id": "954fae5d",
   "metadata": {},
   "outputs": [],
   "source": [
    "minStack = MinStack()"
   ]
  },
  {
   "cell_type": "code",
   "execution_count": 14,
   "id": "9fd0219d",
   "metadata": {},
   "outputs": [],
   "source": [
    "minStack.push(-2)"
   ]
  },
  {
   "cell_type": "code",
   "execution_count": 15,
   "id": "b04030a6",
   "metadata": {},
   "outputs": [],
   "source": [
    "minStack.push(0)"
   ]
  },
  {
   "cell_type": "code",
   "execution_count": 16,
   "id": "16b2f535",
   "metadata": {},
   "outputs": [],
   "source": [
    "minStack.push(-3)"
   ]
  },
  {
   "cell_type": "code",
   "execution_count": 17,
   "id": "25b15813",
   "metadata": {},
   "outputs": [
    {
     "data": {
      "text/plain": [
       "-3"
      ]
     },
     "execution_count": 17,
     "metadata": {},
     "output_type": "execute_result"
    }
   ],
   "source": [
    "minStack.getMin()"
   ]
  },
  {
   "cell_type": "code",
   "execution_count": 18,
   "id": "f65129b0",
   "metadata": {},
   "outputs": [],
   "source": [
    "minStack.pop()"
   ]
  },
  {
   "cell_type": "code",
   "execution_count": 19,
   "id": "7e062213",
   "metadata": {},
   "outputs": [
    {
     "data": {
      "text/plain": [
       "0"
      ]
     },
     "execution_count": 19,
     "metadata": {},
     "output_type": "execute_result"
    }
   ],
   "source": [
    "minStack.top()"
   ]
  },
  {
   "cell_type": "code",
   "execution_count": 20,
   "id": "fd65cabe",
   "metadata": {},
   "outputs": [
    {
     "data": {
      "text/plain": [
       "-2"
      ]
     },
     "execution_count": 20,
     "metadata": {},
     "output_type": "execute_result"
    }
   ],
   "source": [
    "minStack.getMin()"
   ]
  },
  {
   "cell_type": "markdown",
   "id": "3f08c295",
   "metadata": {},
   "source": [
    "### Question 8\n",
    "\n",
    "Given `n` non-negative integers representing an elevation map where the width of each bar is `1`, compute how much water it can trap after raining.\n",
    "\n",
    "**Example 1:**\n",
    "\n",
    "!https://assets.leetcode.com/uploads/2018/10/22/rainwatertrap.png\n",
    "\n",
    "```\n",
    "Input: height = [0,1,0,2,1,0,1,3,2,1,2,1]\n",
    "Output: 6\n",
    "Explanation: The above elevation map (black section) is represented by array [0,1,0,2,1,0,1,3,2,1,2,1]. In this case, 6 units of rain water (blue section) are being trapped.\n",
    "\n",
    "```\n",
    "\n",
    "**Example 2:**\n",
    "\n",
    "```\n",
    "Input: height = [4,2,0,3,2,5]\n",
    "Output: 9\n",
    "```"
   ]
  },
  {
   "cell_type": "code",
   "execution_count": 21,
   "id": "992b3f7c",
   "metadata": {},
   "outputs": [],
   "source": [
    "from collections import deque"
   ]
  },
  {
   "cell_type": "code",
   "execution_count": 22,
   "id": "5d9ee369",
   "metadata": {},
   "outputs": [
    {
     "name": "stdout",
     "output_type": "stream",
     "text": [
      "9\n"
     ]
    }
   ],
   "source": [
    "height = [4,2,0,3,2,5]\n",
    "st = []\n",
    "maxl = deque()\n",
    "maxr = deque()\n",
    "max_left = max_right = 0\n",
    "for i in range(len(height)):\n",
    "    st.append(height[i])\n",
    "    maxl.append(max_left)\n",
    "    if st[i]>max_left:\n",
    "        max_left = height[i]\n",
    "while st:\n",
    "    maxr.appendleft(max_right)\n",
    "    if st[-1] > max_right:\n",
    "        max_right = st[-1]\n",
    "    st.pop()\n",
    "water = 0\n",
    "for i in range(len(height)):\n",
    "    water_units = min(maxl[i],maxr[i]) - height[i]\n",
    "    water += max(0,water_units)\n",
    "print(water)"
   ]
  }
 ],
 "metadata": {
  "kernelspec": {
   "display_name": "Python 3 (ipykernel)",
   "language": "python",
   "name": "python3"
  },
  "language_info": {
   "codemirror_mode": {
    "name": "ipython",
    "version": 3
   },
   "file_extension": ".py",
   "mimetype": "text/x-python",
   "name": "python",
   "nbconvert_exporter": "python",
   "pygments_lexer": "ipython3",
   "version": "3.9.16"
  }
 },
 "nbformat": 4,
 "nbformat_minor": 5
}
