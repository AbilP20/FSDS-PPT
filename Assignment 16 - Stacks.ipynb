{
 "cells": [
  {
   "cell_type": "markdown",
   "id": "225cdfe0",
   "metadata": {},
   "source": [
    "### Question 1**\n",
    "\n",
    "Given an array, for each element find the value of the nearest element to the right which is having a frequency greater than that of the current element. If there does not exist an answer for a position, then make the value ‘-1’.\n",
    "\n",
    "**Examples:**\n",
    "\n",
    "```\n",
    "Input: a[] = [1, 1, 2, 3, 4, 2, 1]\n",
    "Output : [-1, -1, 1, 2, 2, 1, -1]\n",
    "\n",
    "Explanation:\n",
    "Given array a[] = [1, 1, 2, 3, 4, 2, 1]\n",
    "Frequency of each element is: 3, 3, 2, 1, 1, 2, 3\n",
    "\n",
    "Lets calls Next Greater Frequency element as NGF\n",
    "1. For element a[0] = 1 which has a frequency = 3,\n",
    "   As it has frequency of 3 and no other next element\n",
    "   has frequency more than 3 so  '-1'\n",
    "2. For element a[1] = 1 it will be -1 same logic\n",
    "   like a[0]\n",
    "3. For element a[2] = 2 which has frequency = 2,\n",
    "   NGF element is 1 at position = 6  with frequency\n",
    "   of 3 > 2\n",
    "4. For element a[3] = 3 which has frequency = 1,\n",
    "   NGF element is 2 at position = 5 with frequency\n",
    "   of 2 > 1\n",
    "5. For element a[4] = 4 which has frequency = 1,\n",
    "   NGF element is 2 at position = 5 with frequency\n",
    "   of 2 > 1\n",
    "6. For element a[5] = 2 which has frequency = 2,\n",
    "   NGF element is 1 at position = 6 with frequency\n",
    "   of 3 > 2\n",
    "7. For element a[6] = 1 there is no element to its\n",
    "   right, hence -1\n",
    "```\n",
    "\n",
    "```\n",
    "Input : a[] = [1, 1, 1, 2, 2, 2, 2, 11, 3, 3]\n",
    "Output : [2, 2, 2, -1, -1, -1, -1, 3, -1, -1]\n",
    "```\n"
   ]
  },
  {
   "cell_type": "code",
   "execution_count": 1,
   "id": "96369643",
   "metadata": {},
   "outputs": [
    {
     "data": {
      "text/plain": [
       "[2, 2, 2, -1, -1, -1, -1, 3, -1, -1]"
      ]
     },
     "execution_count": 1,
     "metadata": {},
     "output_type": "execute_result"
    }
   ],
   "source": [
    "def ngf(a):\n",
    "    freq = [a.count(i) for i in a]\n",
    "    st=[]\n",
    "    b=[-1]*len(freq)\n",
    "    for i, val in enumerate(freq):\n",
    "        while st and freq[st[-1]] < val:\n",
    "            b[st.pop()] = val\n",
    "        st.append(i)\n",
    "    for i, val in enumerate(freq):\n",
    "        while st and freq[st[-1]] < val:  \n",
    "            b[st.pop()] = val\n",
    "    b[-1]=-1\n",
    "    \n",
    "    c=[-1]*len(a)\n",
    "    for i in range(len(b)):\n",
    "        if b[i]!=-1:\n",
    "            try:\n",
    "                indx = freq.index(b[i],i)\n",
    "                c[i]=a[indx]            \n",
    "            except:\n",
    "                c[i]=-1\n",
    "    return c\n",
    "a = [1, 1, 1, 2, 2, 2, 2, 11, 3, 3]\n",
    "ngf(a)"
   ]
  },
  {
   "cell_type": "markdown",
   "id": "fa808edc",
   "metadata": {},
   "source": [
    "### Question 2**\n",
    "\n",
    "Given a stack of integers, sort it in ascending order using another temporary stack.\n",
    "\n",
    "**Examples:**\n",
    "\n",
    "```\n",
    "Input : [34, 3, 31, 98, 92, 23]\n",
    "Output : [3, 23, 31, 34, 92, 98]\n",
    "\n",
    "Input : [3, 5, 1, 4, 2, 8]\n",
    "Output : [1, 2, 3, 4, 5, 8]\n",
    "```\n"
   ]
  },
  {
   "cell_type": "code",
   "execution_count": 2,
   "id": "5e72d52b",
   "metadata": {},
   "outputs": [
    {
     "name": "stdout",
     "output_type": "stream",
     "text": [
      "[3, 23, 31, 34, 92, 98]\n"
     ]
    }
   ],
   "source": [
    "st = [34, 3, 31, 98, 92, 23]\n",
    "temp_st = []\n",
    "temp = -9999\n",
    "while st:\n",
    "    if st[-1] > temp:\n",
    "        temp = st.pop()\n",
    "        temp_st.append(temp)\n",
    "    else:\n",
    "        temp = st.pop()\n",
    "        while temp_st:\n",
    "            st.append(temp_st.pop())\n",
    "        temp_st.append(temp)\n",
    "print(temp_st)"
   ]
  },
  {
   "cell_type": "markdown",
   "id": "4c7565ee",
   "metadata": {},
   "source": [
    "### Question 3\n",
    "\n",
    "Given a stack with **push()**, **pop()**, and **empty()** operations, The task is to delete the **middle** element of it without using any additional data structure.\n",
    "\n",
    "Input  : Stack[] = [1, 2, 3, 4, 5]\n",
    "\n",
    "Output : Stack[] = [1, 2, 4, 5]\n",
    "\n",
    "Input  : Stack[] = [1, 2, 3, 4, 5, 6]\n",
    "\n",
    "Output : Stack[] = [1, 2, 4, 5, 6]\n"
   ]
  },
  {
   "cell_type": "code",
   "execution_count": 3,
   "id": "c1227856",
   "metadata": {},
   "outputs": [
    {
     "name": "stdout",
     "output_type": "stream",
     "text": [
      "[1, 2, 3, 4, 5]\n",
      "[1, 2, 4, 5]\n"
     ]
    }
   ],
   "source": [
    "st = []\n",
    "def push(val):\n",
    "    st.append(val)\n",
    "def pop():\n",
    "    return st.pop()\n",
    "def empty():\n",
    "    return st==[]\n",
    "def del_mid(st, n, i=0):    \n",
    "    if (empty() or i==n) :\n",
    "        return\n",
    "    val = st.pop()\n",
    "    del_mid(st, n, i+1)\n",
    "    if i != int(n/2):\n",
    "        push(val)\n",
    "\n",
    "push(1);push(2);push(3);push(4);push(5)\n",
    "print(st)\n",
    "del_mid(st, len(st))\n",
    "print(st)"
   ]
  },
  {
   "cell_type": "markdown",
   "id": "e746e874",
   "metadata": {},
   "source": [
    "### Question 4\n",
    "\n",
    "Given a Queue consisting of first **n** natural numbers (in random order). The task is to check whether the given Queue elements can be arranged in increasing order in another Queue using a stack. The operation allowed are:\n",
    "\n",
    "1. Push and pop elements from the stack\n",
    "2. Pop (Or Dequeue) from the given Queue.\n",
    "3. Push (Or Enqueue) in the another Queue.\n",
    "\n",
    "**Examples :**\n",
    "\n",
    "Input : Queue[] = { 5, 1, 2, 3, 4 } \n",
    "\n",
    "Output : Yes \n",
    "\n",
    "Pop the first element of the given Queue \n",
    "\n",
    "i.e 5. Push 5 into the stack. \n",
    "\n",
    "Now, pop all the elements of the given Queue and push them to second Queue. \n",
    "\n",
    "Now, pop element 5 in the stack and push it to the second Queue.   \n",
    "\n",
    "Input : Queue[] = { 5, 1, 2, 6, 3, 4 } \n",
    "\n",
    "Output : No \n",
    "\n",
    "Push 5 to stack. \n",
    "\n",
    "Pop 1, 2 from given Queue and push it to another Queue. \n",
    "\n",
    "Pop 6 from given Queue and push to stack. \n",
    "\n",
    "Pop 3, 4 from given Queue and push to second Queue. \n",
    "\n",
    "Now, from using any of above operation, we cannot push 5 into the second Queue because it is below the 6 in the stack.\n"
   ]
  },
  {
   "cell_type": "code",
   "execution_count": 4,
   "id": "ab54f761",
   "metadata": {},
   "outputs": [],
   "source": [
    "st = []\n",
    "q1 = [5, 1, 2, 3, 4]\n",
    "q2 = []\n",
    "def push(val):\n",
    "    st.append(val)\n",
    "def pop(val):\n",
    "    return st.pop()\n",
    "def enq(q, val):\n",
    "    q.append(val)\n",
    "def deq(q):\n",
    "    return q.pop(0)\n"
   ]
  },
  {
   "cell_type": "markdown",
   "id": "4a868e18",
   "metadata": {},
   "source": [
    "### Question 5\n",
    "\n",
    "Given a number , write a program to reverse this number using stack.\n",
    "\n",
    "**Examples:**\n",
    "\n",
    "```\n",
    "Input : 365\n",
    "Output : 563\n",
    "\n",
    "Input : 6899\n",
    "Output : 9986\n",
    "```"
   ]
  },
  {
   "cell_type": "code",
   "execution_count": 5,
   "id": "dd3388d2",
   "metadata": {},
   "outputs": [
    {
     "name": "stdout",
     "output_type": "stream",
     "text": [
      "563\n"
     ]
    }
   ],
   "source": [
    "num = 365\n",
    "st =[]\n",
    "while num!=0:\n",
    "    st.append(num%10)\n",
    "    num=num//10\n",
    "i = 1\n",
    "while st:\n",
    "    num += st.pop()*i\n",
    "    i=i*10\n",
    "print(num)"
   ]
  },
  {
   "cell_type": "markdown",
   "id": "6c82251a",
   "metadata": {},
   "source": [
    "### Question 6**\n",
    "\n",
    "Given an integer k and a **[queue](https://www.geeksforgeeks.org/queue-data-structure/)** of integers, The task is to reverse the order of the first **k** elements of the queue, leaving the other elements in the same relative order.\n",
    "\n",
    "Only following standard operations are allowed on queue.\n",
    "\n",
    "- **enqueue(x) :** Add an item x to rear of queue\n",
    "- **dequeue() :** Remove an item from front of queue\n",
    "- **size() :** Returns number of elements in queue.\n",
    "- **front() :** Finds front item.\n"
   ]
  },
  {
   "cell_type": "markdown",
   "id": "e4bb3fbb",
   "metadata": {},
   "source": [
    "### Question 7**\n",
    "\n",
    "Given a sequence of n strings, the task is to check if any two similar words come together and then destroy each other then print the number of words left in the sequence after this pairwise destruction.\n",
    "\n",
    "**Examples:**\n",
    "\n",
    "Input : ab aa aa bcd ab\n",
    "\n",
    "Output : 3\n",
    "\n",
    "*As aa, aa destroys each other so,*\n",
    "\n",
    "*ab bcd ab is the new sequence.*\n",
    "\n",
    "Input :  tom jerry jerry tom\n",
    "\n",
    "Output : 0\n",
    "\n",
    "*As first both jerry will destroy each other.*\n",
    "\n",
    "*Then sequence will be tom, tom they will also destroy*\n",
    "\n",
    "*each other. So, the final sequence doesn’t contain any*\n",
    "\n",
    "*word.*\n"
   ]
  },
  {
   "cell_type": "code",
   "execution_count": 6,
   "id": "3999de2f",
   "metadata": {},
   "outputs": [
    {
     "name": "stdout",
     "output_type": "stream",
     "text": [
      "0\n"
     ]
    }
   ],
   "source": [
    "a = [\"tom\", \"jerry\", \"jerry\", \"tom\"]\n",
    "st =[]\n",
    "for i in a:\n",
    "    if st and i==st[-1]:\n",
    "        st.pop()\n",
    "    else:\n",
    "        st.append(i)\n",
    "print(len(st))"
   ]
  },
  {
   "cell_type": "markdown",
   "id": "0adad9ba",
   "metadata": {},
   "source": [
    "### Question 8\n",
    "\n",
    "Given an array of integers, the task is to find the maximum absolute difference between the nearest left and the right smaller element of every element in the array.\n",
    "\n",
    "**Note:** If there is no smaller element on right side or left side of any element then we take zero as the smaller element. For example for the leftmost element, the nearest smaller element on the left side is considered as 0. Similarly, for rightmost elements, the smaller element on the right side is considered as 0.\n",
    "\n",
    "**Examples:**\n",
    "\n",
    "```\n",
    "Input : arr[] = {2, 1, 8}\n",
    "Output : 1\n",
    "Left smaller  LS[] {0, 0, 1}\n",
    "Right smaller RS[] {1, 0, 0}\n",
    "Maximum Diff of abs(LS[i] - RS[i]) = 1\n",
    "\n",
    "Input  : arr[] = {2, 4, 8, 7, 7, 9, 3}\n",
    "Output : 4\n",
    "Left smaller   LS[] = {0, 2, 4, 4, 4, 7, 2}\n",
    "Right smaller  RS[] = {0, 3, 7, 3, 3, 3, 0}\n",
    "Maximum Diff of abs(LS[i] - RS[i]) = 7 - 3 = 4\n",
    "\n",
    "Input : arr[] = {5, 1, 9, 2, 5, 1, 7}\n",
    "Output : 1\n",
    "```"
   ]
  },
  {
   "cell_type": "code",
   "execution_count": 7,
   "id": "5e1b8247",
   "metadata": {},
   "outputs": [
    {
     "name": "stdout",
     "output_type": "stream",
     "text": [
      "1\n"
     ]
    }
   ],
   "source": [
    "a = [2,1,8]\n",
    "\n",
    "ls=[0]*len(a)\n",
    "st=[]\n",
    "for i in range(len(a)):\n",
    "    while (st and st[-1] >= a[i]):\n",
    "        st.pop()\n",
    "    if st:\n",
    "        ls[i] = st[-1]\n",
    "    st.append(a[i])\n",
    "\n",
    "rs=[0]*len(a)\n",
    "st = []\n",
    "for i in range(len(a)-1,-1,-1):\n",
    "    while(st != [] and st[-1] >= a[i]):\n",
    "        st.pop()\n",
    "    if st:\n",
    "        rs[i]=st[-1]\n",
    "    st.append(a[i])\n",
    "\n",
    "maxx_dif = -1\n",
    "for i in range(len(a)):\n",
    "    dif = max(0,abs(ls[i]-rs[i]))\n",
    "    if dif>maxx_dif:\n",
    "        maxx_dif=dif\n",
    "print(maxx_dif)"
   ]
  }
 ],
 "metadata": {
  "kernelspec": {
   "display_name": "Python 3 (ipykernel)",
   "language": "python",
   "name": "python3"
  },
  "language_info": {
   "codemirror_mode": {
    "name": "ipython",
    "version": 3
   },
   "file_extension": ".py",
   "mimetype": "text/x-python",
   "name": "python",
   "nbconvert_exporter": "python",
   "pygments_lexer": "ipython3",
   "version": "3.9.16"
  }
 },
 "nbformat": 4,
 "nbformat_minor": 5
}
